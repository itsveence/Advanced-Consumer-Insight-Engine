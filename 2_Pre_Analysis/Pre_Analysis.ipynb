{
 "cells": [
  {
   "cell_type": "code",
   "execution_count": 1,
   "id": "55213f35-e5d7-4482-82d9-91cd1bf63889",
   "metadata": {
    "tags": []
   },
   "outputs": [],
   "source": [
    "import pandas as pd\n",
    "import numpy as np\n",
    "import matplotlib.pyplot as plt\n",
    "import seaborn as sns\n",
    "from bs4 import BeautifulSoup\n",
    "import requests\n",
    "from tqdm import tqdm\n",
    "import warnings\n",
    "warnings.filterwarnings('ignore')"
   ]
  },
  {
   "cell_type": "code",
   "execution_count": 2,
   "id": "793e2617-dce3-48ca-95da-0de7cf27169a",
   "metadata": {
    "tags": []
   },
   "outputs": [
    {
     "data": {
      "text/html": [
       "<div>\n",
       "<style scoped>\n",
       "    .dataframe tbody tr th:only-of-type {\n",
       "        vertical-align: middle;\n",
       "    }\n",
       "\n",
       "    .dataframe tbody tr th {\n",
       "        vertical-align: top;\n",
       "    }\n",
       "\n",
       "    .dataframe thead th {\n",
       "        text-align: right;\n",
       "    }\n",
       "</style>\n",
       "<table border=\"1\" class=\"dataframe\">\n",
       "  <thead>\n",
       "    <tr style=\"text-align: right;\">\n",
       "      <th></th>\n",
       "      <th>Userprofile_url</th>\n",
       "      <th>Username</th>\n",
       "      <th>Reviewdate</th>\n",
       "      <th>Productname</th>\n",
       "      <th>review_title</th>\n",
       "      <th>review_text</th>\n",
       "      <th>categoryfirst_breadcrumb</th>\n",
       "      <th>allbreadcrumbs</th>\n",
       "      <th>price</th>\n",
       "      <th>urlproduct</th>\n",
       "      <th>verified_review</th>\n",
       "    </tr>\n",
       "  </thead>\n",
       "  <tbody>\n",
       "    <tr>\n",
       "      <th>0</th>\n",
       "      <td>https://www.amazon.com/gp/profile/amzn1.accoun...</td>\n",
       "      <td>\"Big George\" Afutu Jr.</td>\n",
       "      <td>02/01/2023</td>\n",
       "      <td>Gildan G180</td>\n",
       "      <td>Smart purchase due to great price and great qu...</td>\n",
       "      <td>This is the 3rd time I bought this sweater for...</td>\n",
       "      <td>Clothing, Shoes &amp; Jewelry</td>\n",
       "      <td>Men, Clothing, Active, Active Sweatshirts</td>\n",
       "      <td>$8.90</td>\n",
       "      <td>https://www.amazon.com/Gildan-Heavy-Blend-Crew...</td>\n",
       "      <td>Y</td>\n",
       "    </tr>\n",
       "    <tr>\n",
       "      <th>1</th>\n",
       "      <td>https://www.amazon.com/gp/profile/amzn1.accoun...</td>\n",
       "      <td>\"Big George\" Afutu Jr.</td>\n",
       "      <td>07/02/2023</td>\n",
       "      <td>25 Lessons in Official Jiu Jitsu (1905): As Ta...</td>\n",
       "      <td>A great revised Classic!</td>\n",
       "      <td>The only reason that I give this manual 4 star...</td>\n",
       "      <td>Books</td>\n",
       "      <td>Education &amp; Teaching, Schools &amp; Teaching</td>\n",
       "      <td>$8.99</td>\n",
       "      <td>https://www.amazon.com/Lessons-Official-Jiu-Ji...</td>\n",
       "      <td>Y</td>\n",
       "    </tr>\n",
       "    <tr>\n",
       "      <th>2</th>\n",
       "      <td>https://www.amazon.com/gp/profile/amzn1.accoun...</td>\n",
       "      <td>\"Big George\" Afutu Jr.</td>\n",
       "      <td>09/02/2023</td>\n",
       "      <td>Urban Star Mens Jeans Relaxed Fit – Straight L...</td>\n",
       "      <td>Great buy!</td>\n",
       "      <td>Perhaps the best-looking $20 jeans I have ever...</td>\n",
       "      <td>Clothing, Shoes &amp; Jewelry</td>\n",
       "      <td>Men, Clothing, Jeans</td>\n",
       "      <td>$22.95</td>\n",
       "      <td>https://www.amazon.com/Urban-Star-Mens-Jeans-R...</td>\n",
       "      <td>Y</td>\n",
       "    </tr>\n",
       "    <tr>\n",
       "      <th>3</th>\n",
       "      <td>https://www.amazon.com/gp/profile/amzn1.accoun...</td>\n",
       "      <td>\"Big George\" Afutu Jr.</td>\n",
       "      <td>09/12/2022</td>\n",
       "      <td>Levi's Women's Demi Curve ID Boot Cut Jean</td>\n",
       "      <td>What a deal!</td>\n",
       "      <td>Stylish, rugged jeans at 50% of the regular pr...</td>\n",
       "      <td>Clothing, Shoes &amp; Jewelry</td>\n",
       "      <td>Clothing, Shoes &amp; Jewelry, Women, Clothing, Jeans</td>\n",
       "      <td>$25.98</td>\n",
       "      <td>https://www.amazon.com/Levis-Relaxed-Straight-...</td>\n",
       "      <td>Y</td>\n",
       "    </tr>\n",
       "    <tr>\n",
       "      <th>4</th>\n",
       "      <td>https://www.amazon.com/gp/profile/amzn1.accoun...</td>\n",
       "      <td>\"Big George\" Afutu Jr.</td>\n",
       "      <td>09/12/2022</td>\n",
       "      <td>Levi's Men's 559 Relaxed Straight Jeans (Also ...</td>\n",
       "      <td>Good jeans</td>\n",
       "      <td>Perfectly fit</td>\n",
       "      <td>Clothing, Shoes &amp; Jewelry</td>\n",
       "      <td>Clothing, Shoes &amp; Jewelry, Men, Clothing, Jeans</td>\n",
       "      <td>$34.00</td>\n",
       "      <td>https://www.amazon.com/Levis-Mens-Relaxed-Stra...</td>\n",
       "      <td>Y</td>\n",
       "    </tr>\n",
       "  </tbody>\n",
       "</table>\n",
       "</div>"
      ],
      "text/plain": [
       "                                     Userprofile_url                Username  \\\n",
       "0  https://www.amazon.com/gp/profile/amzn1.accoun...  \"Big George\" Afutu Jr.   \n",
       "1  https://www.amazon.com/gp/profile/amzn1.accoun...  \"Big George\" Afutu Jr.   \n",
       "2  https://www.amazon.com/gp/profile/amzn1.accoun...  \"Big George\" Afutu Jr.   \n",
       "3  https://www.amazon.com/gp/profile/amzn1.accoun...  \"Big George\" Afutu Jr.   \n",
       "4  https://www.amazon.com/gp/profile/amzn1.accoun...  \"Big George\" Afutu Jr.   \n",
       "\n",
       "   Reviewdate                                        Productname  \\\n",
       "0  02/01/2023                                        Gildan G180   \n",
       "1  07/02/2023  25 Lessons in Official Jiu Jitsu (1905): As Ta...   \n",
       "2  09/02/2023  Urban Star Mens Jeans Relaxed Fit – Straight L...   \n",
       "3  09/12/2022         Levi's Women's Demi Curve ID Boot Cut Jean   \n",
       "4  09/12/2022  Levi's Men's 559 Relaxed Straight Jeans (Also ...   \n",
       "\n",
       "                                        review_title  \\\n",
       "0  Smart purchase due to great price and great qu...   \n",
       "1                           A great revised Classic!   \n",
       "2                                         Great buy!   \n",
       "3                                       What a deal!   \n",
       "4                                         Good jeans   \n",
       "\n",
       "                                         review_text  \\\n",
       "0  This is the 3rd time I bought this sweater for...   \n",
       "1  The only reason that I give this manual 4 star...   \n",
       "2  Perhaps the best-looking $20 jeans I have ever...   \n",
       "3  Stylish, rugged jeans at 50% of the regular pr...   \n",
       "4                                      Perfectly fit   \n",
       "\n",
       "    categoryfirst_breadcrumb  \\\n",
       "0  Clothing, Shoes & Jewelry   \n",
       "1                      Books   \n",
       "2  Clothing, Shoes & Jewelry   \n",
       "3  Clothing, Shoes & Jewelry   \n",
       "4  Clothing, Shoes & Jewelry   \n",
       "\n",
       "                                      allbreadcrumbs   price  \\\n",
       "0          Men, Clothing, Active, Active Sweatshirts   $8.90   \n",
       "1           Education & Teaching, Schools & Teaching   $8.99   \n",
       "2                               Men, Clothing, Jeans  $22.95   \n",
       "3  Clothing, Shoes & Jewelry, Women, Clothing, Jeans  $25.98   \n",
       "4    Clothing, Shoes & Jewelry, Men, Clothing, Jeans  $34.00   \n",
       "\n",
       "                                          urlproduct verified_review  \n",
       "0  https://www.amazon.com/Gildan-Heavy-Blend-Crew...               Y  \n",
       "1  https://www.amazon.com/Lessons-Official-Jiu-Ji...               Y  \n",
       "2  https://www.amazon.com/Urban-Star-Mens-Jeans-R...               Y  \n",
       "3  https://www.amazon.com/Levis-Relaxed-Straight-...               Y  \n",
       "4  https://www.amazon.com/Levis-Mens-Relaxed-Stra...               Y  "
      ]
     },
     "execution_count": 2,
     "metadata": {},
     "output_type": "execute_result"
    }
   ],
   "source": [
    "#Read the Amazon scrapped data and retrieve the first few rows\n",
    "scraped_data = pd.read_excel(\"../1_Scrape_Data/data/Output5.xlsx\")\n",
    "scraped_data.head()"
   ]
  },
  {
   "cell_type": "code",
   "execution_count": 3,
   "id": "abe703fb-f2f9-4f7e-a028-1b3c87e8693a",
   "metadata": {
    "tags": []
   },
   "outputs": [
    {
     "data": {
      "text/plain": [
       "2000"
      ]
     },
     "execution_count": 3,
     "metadata": {},
     "output_type": "execute_result"
    }
   ],
   "source": [
    "# Number of Levi's Men's 559 Relaxed Straight Jeans reviews\n",
    "len(scraped_data[scraped_data[\"Productname\"].str.contains(\"Levi's Men's 559 Relaxed Straight Jeans\")])"
   ]
  },
  {
   "cell_type": "code",
   "execution_count": 4,
   "id": "b0cfea98-1887-4045-a79c-ec76487ea8dd",
   "metadata": {
    "tags": []
   },
   "outputs": [
    {
     "data": {
      "text/plain": [
       "1993"
      ]
     },
     "execution_count": 4,
     "metadata": {},
     "output_type": "execute_result"
    }
   ],
   "source": [
    "# Number of Levi's Men's 559 Relaxed Straight Jeans reviews unique reviewers\n",
    "len(scraped_data[scraped_data[\"Productname\"].str.contains(\"Levi's Men's 559 Relaxed Straight Jeans\")][\"Userprofile_url\"].unique())"
   ]
  },
  {
   "cell_type": "code",
   "execution_count": 5,
   "id": "ee571840-09f9-496c-b710-961998f8719c",
   "metadata": {
    "tags": []
   },
   "outputs": [
    {
     "data": {
      "text/plain": [
       "1929"
      ]
     },
     "execution_count": 5,
     "metadata": {},
     "output_type": "execute_result"
    }
   ],
   "source": [
    "# Number of Levi's Men's 559 Relaxed Straight Jeans verified reviews unique reviewers\n",
    "len(scraped_data[(scraped_data[\"Productname\"].str.contains(\"Levi's Men's 559 Relaxed Straight Jeans\")) & (scraped_data[\"verified_review\"]==\"Y\")][\"Userprofile_url\"].unique())"
   ]
  },
  {
   "cell_type": "code",
   "execution_count": 6,
   "id": "c3369526-86ed-4bf8-ac62-a39a8aed1b03",
   "metadata": {
    "tags": []
   },
   "outputs": [
    {
     "data": {
      "text/plain": [
       "64"
      ]
     },
     "execution_count": 6,
     "metadata": {},
     "output_type": "execute_result"
    }
   ],
   "source": [
    "# Number of Levi's Men's 559 Relaxed Straight Jeans unverified reviews unique reviewers\n",
    "len(scraped_data[(scraped_data[\"Productname\"].str.contains(\"Levi's Men's 559 Relaxed Straight Jeans\")) & (scraped_data[\"verified_review\"]==\"N\")][\"Userprofile_url\"].unique())"
   ]
  },
  {
   "cell_type": "code",
   "execution_count": 7,
   "id": "aa61c4d3-ef59-46d8-b30a-11f76d2a232b",
   "metadata": {
    "scrolled": true,
    "tags": []
   },
   "outputs": [
    {
     "data": {
      "text/plain": [
       "['https://www.amazon.com/gp/profile/amzn1.account.AGXN5KGZR6VIT3I4DVVHWJB5HABQ/ref=cm_cr_arp_d_gw_btm?ie=UTF8',\n",
       " 'https://www.amazon.com/gp/profile/amzn1.account.AE5CE45D7AWSKFYJYFSIBHKLZYEA/ref=cm_cr_arp_d_gw_btm?ie=UTF8',\n",
       " 'https://www.amazon.com/gp/profile/amzn1.account.AH6IDM24CXHUTST7NZ4SIBGECSTQ/ref=cm_cr_arp_d_gw_btm?ie=UTF8',\n",
       " 'https://www.amazon.com/gp/profile/amzn1.account.AHN76BRY53AULDRY724XZ2XFJP6Q/ref=cm_cr_arp_d_gw_btm?ie=UTF8',\n",
       " 'https://www.amazon.com/gp/profile/amzn1.account.AF7MEUCSBH4U443AWVGYGQZ4QYVQ/ref=cm_cr_arp_d_gw_btm?ie=UTF8',\n",
       " 'https://www.amazon.com/gp/profile/amzn1.account.AFU5JWP2QIBZWNNC4TEZCDFEI32A/ref=cm_cr_arp_d_gw_btm?ie=UTF8',\n",
       " 'https://www.amazon.com/gp/profile/amzn1.account.AFZ7KU4TPX3QYZY55MO4AOMHFJ3Q/ref=cm_cr_arp_d_gw_btm?ie=UTF8',\n",
       " 'https://www.amazon.com/gp/profile/amzn1.account.AGMVNU5HWLC7VCWYMVUAD5WPXY7A/ref=cm_cr_arp_d_gw_btm?ie=UTF8',\n",
       " 'https://www.amazon.com/gp/profile/amzn1.account.AEKCIPPJJ2EIDCQXOKBWV4PWXBZQ/ref=cm_cr_arp_d_gw_btm?ie=UTF8',\n",
       " 'https://www.amazon.com/gp/profile/amzn1.account.AH47QCRKDNZGEFVD3DMHVN55TJAA/ref=cm_cr_arp_d_gw_btm?ie=UTF8',\n",
       " 'https://www.amazon.com/gp/profile/amzn1.account.AGEWICLSES4D4WKUEP2L2O3MTUTQ/ref=cm_cr_arp_d_gw_btm?ie=UTF8',\n",
       " 'https://www.amazon.com/gp/profile/amzn1.account.AHZ2GW3EJ3RGSZZ56XOLDY5VNLKA/ref=cm_cr_arp_d_gw_btm?ie=UTF8',\n",
       " 'https://www.amazon.com/gp/profile/amzn1.account.AFVE3KJOCDBGTOSYJBBSCKCX5B7A/ref=cm_cr_arp_d_gw_btm?ie=UTF8',\n",
       " 'https://www.amazon.com/gp/profile/amzn1.account.AHORIB7AHJWH4MUOLS4CXX4VE6CA/ref=cm_cr_arp_d_gw_btm?ie=UTF8',\n",
       " 'https://www.amazon.com/gp/profile/amzn1.account.AF7LDGN47JIA5P2NLQPY5UZSAIDQ/ref=cm_cr_arp_d_gw_btm?ie=UTF8',\n",
       " 'https://www.amazon.com/gp/profile/amzn1.account.AEB27JWZWPGH4IA42AFYGPHQNEKA/ref=cm_cr_arp_d_gw_btm?ie=UTF8',\n",
       " 'https://www.amazon.com/gp/profile/amzn1.account.AHF65DC2IDJHKORPVNJUX4W6DEIA/ref=cm_cr_arp_d_gw_btm?ie=UTF8',\n",
       " 'https://www.amazon.com/gp/profile/amzn1.account.AHAT3ZYBFFDIAGI6DTMQUIKF3V2Q/ref=cm_cr_arp_d_gw_btm?ie=UTF8',\n",
       " 'https://www.amazon.com/gp/profile/amzn1.account.AEXXTRZGCAGQS636IYYKGX5CLOTA/ref=cm_cr_arp_d_gw_btm?ie=UTF8',\n",
       " 'https://www.amazon.com/gp/profile/amzn1.account.AEC2DI2Z7Q2BKCNOIHDXY25VQQMA/ref=cm_cr_arp_d_gw_btm?ie=UTF8',\n",
       " 'https://www.amazon.com/gp/profile/amzn1.account.AHAXLBWQVXLYCA7OPOCUDG7ZWGEQ/ref=cm_cr_arp_d_gw_btm?ie=UTF8',\n",
       " 'https://www.amazon.com/gp/profile/amzn1.account.AET3E5ZZMMR74GK5HX4WFHT4OHGA/ref=cm_cr_arp_d_gw_btm?ie=UTF8',\n",
       " 'https://www.amazon.com/gp/profile/amzn1.account.AFYRIHKUAWRUFGLIMD2JK7QQYLLQ/ref=cm_cr_arp_d_gw_btm?ie=UTF8',\n",
       " 'https://www.amazon.com/gp/profile/amzn1.account.AHRBEX5QAK7C3FZMQFMDPMDPDQYQ/ref=cm_cr_arp_d_gw_btm?ie=UTF8',\n",
       " 'https://www.amazon.com/gp/profile/amzn1.account.AFU7WLMUS73YU6PHZ4FBSF36WT4A/ref=cm_cr_arp_d_gw_btm?ie=UTF8',\n",
       " 'https://www.amazon.com/gp/profile/amzn1.account.AGLJRISJCZRZHLODFVLXCKQEWSXQ/ref=cm_cr_arp_d_gw_btm?ie=UTF8',\n",
       " 'https://www.amazon.com/gp/profile/amzn1.account.AHHYUDS2WIU4UG42SQL5FOWRVQ4Q/ref=cm_cr_arp_d_gw_btm?ie=UTF8',\n",
       " 'https://www.amazon.com/gp/profile/amzn1.account.AFE45EUJWVB2NKT2J6KH3QUNDBCQ/ref=cm_cr_arp_d_gw_btm?ie=UTF8',\n",
       " 'https://www.amazon.com/gp/profile/amzn1.account.AF2SWKR5WAFZGPG2452WRIQPGOAA/ref=cm_cr_arp_d_gw_btm?ie=UTF8',\n",
       " 'https://www.amazon.com/gp/profile/amzn1.account.AECUG2M47PU2ERFSIANAFSIA7OVA/ref=cm_cr_arp_d_gw_btm?ie=UTF8',\n",
       " 'https://www.amazon.com/gp/profile/amzn1.account.AEUNE3KSE7DL5EDMNDPETAP7DKMQ/ref=cm_cr_arp_d_gw_btm?ie=UTF8',\n",
       " 'https://www.amazon.com/gp/profile/amzn1.account.AGFS6LBC7OK4Q4G2RNTSJPYL4COA/ref=cm_cr_arp_d_gw_btm?ie=UTF8',\n",
       " 'https://www.amazon.com/gp/profile/amzn1.account.AEQUGLDR2YUTMY34AFKM26LX7OLQ/ref=cm_cr_arp_d_gw_btm?ie=UTF8',\n",
       " 'https://www.amazon.com/gp/profile/amzn1.account.AHVAPNL5VZXRXZD3XT3FXKWXNI2A/ref=cm_cr_arp_d_gw_btm?ie=UTF8',\n",
       " 'https://www.amazon.com/gp/profile/amzn1.account.AG55XMOJMACIR6MBPGOJ77IX3LEA/ref=cm_cr_arp_d_gw_btm?ie=UTF8',\n",
       " 'https://www.amazon.com/gp/profile/amzn1.account.AEDZULWQQYZLDTMYCHTOR55EAILQ/ref=cm_cr_arp_d_gw_btm?ie=UTF8',\n",
       " 'https://www.amazon.com/gp/profile/amzn1.account.AGV7OXKB2KR4YKAXT4F5V3CGC3GA/ref=cm_cr_arp_d_gw_btm?ie=UTF8',\n",
       " 'https://www.amazon.com/gp/profile/amzn1.account.AHVTV736T23VEU53XA2UC3EU6TUA/ref=cm_cr_arp_d_gw_btm?ie=UTF8',\n",
       " 'https://www.amazon.com/gp/profile/amzn1.account.AEOZA6FBG7NEG3S2H3FXQWNLZDDA/ref=cm_cr_arp_d_gw_btm?ie=UTF8',\n",
       " 'https://www.amazon.com/gp/profile/amzn1.account.AEQZAPIC47QKQRJVR62KMHNPHW5A/ref=cm_cr_arp_d_gw_btm?ie=UTF8',\n",
       " 'https://www.amazon.com/gp/profile/amzn1.account.AESWTN2QEACVOWF4TGBHXS6P6VWQ/ref=cm_cr_arp_d_gw_btm?ie=UTF8',\n",
       " 'https://www.amazon.com/gp/profile/amzn1.account.AEYV6YZAAVT4FGKYIXJREXLITZCQ/ref=cm_cr_arp_d_gw_btm?ie=UTF8',\n",
       " 'https://www.amazon.com/gp/profile/amzn1.account.AGMEI37BWEY2WLPESXD7RIBOPIVQ/ref=cm_cr_arp_d_gw_btm?ie=UTF8',\n",
       " 'https://www.amazon.com/gp/profile/amzn1.account.AFJ733EZSCSZERZRDUEKCEQKS5JA/ref=cm_cr_arp_d_gw_btm?ie=UTF8',\n",
       " 'https://www.amazon.com/gp/profile/amzn1.account.AE2OEQLOFIQ4RRXT37QNXDLOIEDQ/ref=cm_cr_arp_d_gw_btm?ie=UTF8',\n",
       " 'https://www.amazon.com/gp/profile/amzn1.account.AEEEV3EF7IJHBIS5NBMXOIJBPC5Q/ref=cm_cr_arp_d_gw_btm?ie=UTF8',\n",
       " 'https://www.amazon.com/gp/profile/amzn1.account.AHRZLBGYAVEJZAPLXIZOB7A6RGPQ/ref=cm_cr_arp_d_gw_btm?ie=UTF8',\n",
       " 'https://www.amazon.com/gp/profile/amzn1.account.AGFUQBLR6HG5TJAGOFQCMCMYISRA/ref=cm_cr_arp_d_gw_btm?ie=UTF8',\n",
       " 'https://www.amazon.com/gp/profile/amzn1.account.AEXCUFNPVF6TVB3JNS47QRRVCFXA/ref=cm_cr_arp_d_gw_btm?ie=UTF8',\n",
       " 'https://www.amazon.com/gp/profile/amzn1.account.AEEYXPM3QQKEYBGFINXTOTJQPEKQ/ref=cm_cr_arp_d_gw_btm?ie=UTF8',\n",
       " 'https://www.amazon.com/gp/profile/amzn1.account.AEAWSDGDWTVVFC7J4I54UHZHFRZA/ref=cm_cr_arp_d_gw_btm?ie=UTF8',\n",
       " 'https://www.amazon.com/gp/profile/amzn1.account.AHDSMAPF5CITF735WP2OOHA5WRRQ/ref=cm_cr_arp_d_gw_btm?ie=UTF8',\n",
       " 'https://www.amazon.com/gp/profile/amzn1.account.AHQG5AXV36AXPGSD7KG63ALCVQ6Q/ref=cm_cr_arp_d_gw_btm?ie=UTF8',\n",
       " 'https://www.amazon.com/gp/profile/amzn1.account.AGEWWZWNBOF755G7LT3MMGNQFYSA/ref=cm_cr_arp_d_gw_btm?ie=UTF8',\n",
       " 'https://www.amazon.com/gp/profile/amzn1.account.AGVJRHNHLZ2WIMLRHERWDDTFHO7Q/ref=cm_cr_arp_d_gw_btm?ie=UTF8',\n",
       " 'https://www.amazon.com/gp/profile/amzn1.account.AHY7B2HTSWT7BYNB6I5CN5RCABGQ/ref=cm_cr_arp_d_gw_btm?ie=UTF8',\n",
       " 'https://www.amazon.com/gp/profile/amzn1.account.AFOYIYEBDVELTMVMN2LBESLGESGQ/ref=cm_cr_arp_d_gw_btm?ie=UTF8',\n",
       " 'https://www.amazon.com/gp/profile/amzn1.account.AFYACTGKORL2WGYCVTBNJKLQMMXA/ref=cm_cr_arp_d_gw_btm?ie=UTF8',\n",
       " 'https://www.amazon.com/gp/profile/amzn1.account.AFM7VJG4BBJECUB7GHRI2P2PI65Q/ref=cm_cr_arp_d_gw_btm?ie=UTF8',\n",
       " 'https://www.amazon.com/gp/profile/amzn1.account.AFRG4YU25EJTIXTXT6NUQYZOTXUQ/ref=cm_cr_arp_d_gw_btm?ie=UTF8',\n",
       " 'https://www.amazon.com/gp/profile/amzn1.account.AG752QZTRSYYXZW67GPJD3OR4ZUA/ref=cm_cr_arp_d_gw_btm?ie=UTF8',\n",
       " 'https://www.amazon.com/gp/profile/amzn1.account.AF7IRIXGMVP6LVCFM4SVCYRUKQ2A/ref=cm_cr_arp_d_gw_btm?ie=UTF8',\n",
       " 'https://www.amazon.com/gp/profile/amzn1.account.AHT4VVVCXRR5MSWPAW6KPQXOZZ2Q/ref=cm_cr_arp_d_gw_btm?ie=UTF8',\n",
       " 'https://www.amazon.com/gp/profile/amzn1.account.AHRYBBZG4YSKDH76SKVA4AY4X3IQ/ref=cm_cr_arp_d_gw_btm?ie=UTF8']"
      ]
     },
     "execution_count": 7,
     "metadata": {},
     "output_type": "execute_result"
    }
   ],
   "source": [
    "#List unique user profile URLs associated with unverified reviews for \"Levi's Men's 559 Relaxed Straight Jeans \n",
    "unverified_user_list = scraped_data[(scraped_data[\"Productname\"].str.contains(\"Levi's Men's 559 Relaxed Straight Jeans\")) & (scraped_data[\"verified_review\"]==\"N\")][\"Userprofile_url\"].unique().tolist()\n",
    "unverified_user_list"
   ]
  },
  {
   "cell_type": "code",
   "execution_count": 8,
   "id": "5fee9746-ebe4-4eb5-b6ea-493ea9948b76",
   "metadata": {
    "tags": []
   },
   "outputs": [],
   "source": [
    "# DataFrame includes only user profile URLs not found in the unverified_user_list. So they are verified.\n",
    "new_scraped_data = scraped_data[~scraped_data[\"Userprofile_url\"].isin(unverified_user_list)]"
   ]
  },
  {
   "cell_type": "code",
   "execution_count": 9,
   "id": "c7fd0033-358b-490a-983d-425e224de740",
   "metadata": {
    "tags": []
   },
   "outputs": [],
   "source": [
    "# Remove observations without review_title and review_text\n",
    "new_scraped_data = new_scraped_data[~((new_scraped_data[\"review_title\"]=='unavailabe') & (new_scraped_data[\"review_text\"]=='unavailabe'))]"
   ]
  },
  {
   "cell_type": "code",
   "execution_count": 10,
   "id": "9c135cb2-cb06-48da-94f0-6d47493772e4",
   "metadata": {
    "tags": []
   },
   "outputs": [
    {
     "data": {
      "text/plain": [
       "18116"
      ]
     },
     "execution_count": 10,
     "metadata": {},
     "output_type": "execute_result"
    }
   ],
   "source": [
    "# verified userlist Observations\n",
    "len(new_scraped_data)"
   ]
  },
  {
   "cell_type": "code",
   "execution_count": 11,
   "id": "ad691613-3909-486b-8978-597e989bc277",
   "metadata": {
    "tags": []
   },
   "outputs": [
    {
     "data": {
      "text/plain": [
       "18180"
      ]
     },
     "execution_count": 11,
     "metadata": {},
     "output_type": "execute_result"
    }
   ],
   "source": [
    "# All userlist Observations\n",
    "len(scraped_data)"
   ]
  },
  {
   "cell_type": "code",
   "execution_count": 12,
   "id": "80c2f2ee-5718-4107-bfc6-7c74d8cdb87d",
   "metadata": {
    "tags": []
   },
   "outputs": [
    {
     "name": "stdout",
     "output_type": "stream",
     "text": [
      "<class 'pandas.core.frame.DataFrame'>\n",
      "Index: 18116 entries, 0 to 18179\n",
      "Data columns (total 11 columns):\n",
      " #   Column                    Non-Null Count  Dtype \n",
      "---  ------                    --------------  ----- \n",
      " 0   Userprofile_url           18116 non-null  object\n",
      " 1   Username                  18116 non-null  object\n",
      " 2   Reviewdate                18116 non-null  object\n",
      " 3   Productname               18116 non-null  object\n",
      " 4   review_title              18115 non-null  object\n",
      " 5   review_text               18116 non-null  object\n",
      " 6   categoryfirst_breadcrumb  18116 non-null  object\n",
      " 7   allbreadcrumbs            18116 non-null  object\n",
      " 8   price                     18116 non-null  object\n",
      " 9   urlproduct                18116 non-null  object\n",
      " 10  verified_review           18116 non-null  object\n",
      "dtypes: object(11)\n",
      "memory usage: 1.7+ MB\n"
     ]
    }
   ],
   "source": [
    "new_scraped_data.info()"
   ]
  },
  {
   "cell_type": "code",
   "execution_count": 13,
   "id": "7d3243d5-dc13-4d40-848c-0b6526e4f1ff",
   "metadata": {
    "tags": []
   },
   "outputs": [
    {
     "data": {
      "text/html": [
       "<div>\n",
       "<style scoped>\n",
       "    .dataframe tbody tr th:only-of-type {\n",
       "        vertical-align: middle;\n",
       "    }\n",
       "\n",
       "    .dataframe tbody tr th {\n",
       "        vertical-align: top;\n",
       "    }\n",
       "\n",
       "    .dataframe thead th {\n",
       "        text-align: right;\n",
       "    }\n",
       "</style>\n",
       "<table border=\"1\" class=\"dataframe\">\n",
       "  <thead>\n",
       "    <tr style=\"text-align: right;\">\n",
       "      <th></th>\n",
       "      <th>count</th>\n",
       "      <th>unique</th>\n",
       "      <th>top</th>\n",
       "      <th>freq</th>\n",
       "    </tr>\n",
       "  </thead>\n",
       "  <tbody>\n",
       "    <tr>\n",
       "      <th>Userprofile_url</th>\n",
       "      <td>18180</td>\n",
       "      <td>1993</td>\n",
       "      <td>https://www.amazon.com/gp/profile/amzn1.accoun...</td>\n",
       "      <td>33</td>\n",
       "    </tr>\n",
       "    <tr>\n",
       "      <th>Username</th>\n",
       "      <td>18180</td>\n",
       "      <td>1756</td>\n",
       "      <td>Amazon Customer</td>\n",
       "      <td>1206</td>\n",
       "    </tr>\n",
       "    <tr>\n",
       "      <th>Reviewdate</th>\n",
       "      <td>18180</td>\n",
       "      <td>2436</td>\n",
       "      <td>17/02/2023</td>\n",
       "      <td>56</td>\n",
       "    </tr>\n",
       "    <tr>\n",
       "      <th>Productname</th>\n",
       "      <td>18180</td>\n",
       "      <td>14701</td>\n",
       "      <td>Levi's Men's 559 Relaxed Straight Jeans (Also ...</td>\n",
       "      <td>1345</td>\n",
       "    </tr>\n",
       "    <tr>\n",
       "      <th>review_title</th>\n",
       "      <td>18179</td>\n",
       "      <td>13973</td>\n",
       "      <td>Five Stars</td>\n",
       "      <td>288</td>\n",
       "    </tr>\n",
       "    <tr>\n",
       "      <th>review_text</th>\n",
       "      <td>18180</td>\n",
       "      <td>17210</td>\n",
       "      <td>unavailable</td>\n",
       "      <td>97</td>\n",
       "    </tr>\n",
       "    <tr>\n",
       "      <th>categoryfirst_breadcrumb</th>\n",
       "      <td>18180</td>\n",
       "      <td>72</td>\n",
       "      <td>Clothing, Shoes &amp; Jewelry</td>\n",
       "      <td>5094</td>\n",
       "    </tr>\n",
       "    <tr>\n",
       "      <th>allbreadcrumbs</th>\n",
       "      <td>18180</td>\n",
       "      <td>5034</td>\n",
       "      <td>Men, Clothing, Jeans</td>\n",
       "      <td>1514</td>\n",
       "    </tr>\n",
       "    <tr>\n",
       "      <th>price</th>\n",
       "      <td>18180</td>\n",
       "      <td>2643</td>\n",
       "      <td>price_unavailable</td>\n",
       "      <td>6512</td>\n",
       "    </tr>\n",
       "    <tr>\n",
       "      <th>urlproduct</th>\n",
       "      <td>18180</td>\n",
       "      <td>16478</td>\n",
       "      <td>https://www.amazon.com/Levis-Mens-Relaxed-Stra...</td>\n",
       "      <td>620</td>\n",
       "    </tr>\n",
       "    <tr>\n",
       "      <th>verified_review</th>\n",
       "      <td>18180</td>\n",
       "      <td>2</td>\n",
       "      <td>Y</td>\n",
       "      <td>17363</td>\n",
       "    </tr>\n",
       "  </tbody>\n",
       "</table>\n",
       "</div>"
      ],
      "text/plain": [
       "                          count unique  \\\n",
       "Userprofile_url           18180   1993   \n",
       "Username                  18180   1756   \n",
       "Reviewdate                18180   2436   \n",
       "Productname               18180  14701   \n",
       "review_title              18179  13973   \n",
       "review_text               18180  17210   \n",
       "categoryfirst_breadcrumb  18180     72   \n",
       "allbreadcrumbs            18180   5034   \n",
       "price                     18180   2643   \n",
       "urlproduct                18180  16478   \n",
       "verified_review           18180      2   \n",
       "\n",
       "                                                                        top  \\\n",
       "Userprofile_url           https://www.amazon.com/gp/profile/amzn1.accoun...   \n",
       "Username                                                    Amazon Customer   \n",
       "Reviewdate                                                       17/02/2023   \n",
       "Productname               Levi's Men's 559 Relaxed Straight Jeans (Also ...   \n",
       "review_title                                                     Five Stars   \n",
       "review_text                                                     unavailable   \n",
       "categoryfirst_breadcrumb                          Clothing, Shoes & Jewelry   \n",
       "allbreadcrumbs                                         Men, Clothing, Jeans   \n",
       "price                                                     price_unavailable   \n",
       "urlproduct                https://www.amazon.com/Levis-Mens-Relaxed-Stra...   \n",
       "verified_review                                                           Y   \n",
       "\n",
       "                           freq  \n",
       "Userprofile_url              33  \n",
       "Username                   1206  \n",
       "Reviewdate                   56  \n",
       "Productname                1345  \n",
       "review_title                288  \n",
       "review_text                  97  \n",
       "categoryfirst_breadcrumb   5094  \n",
       "allbreadcrumbs             1514  \n",
       "price                      6512  \n",
       "urlproduct                  620  \n",
       "verified_review           17363  "
      ]
     },
     "execution_count": 13,
     "metadata": {},
     "output_type": "execute_result"
    }
   ],
   "source": [
    "#All scrapped data summary statistics\n",
    "scraped_data.describe(include='all').T"
   ]
  },
  {
   "cell_type": "code",
   "execution_count": 14,
   "id": "77f167b7-06d5-43c8-9278-bb3d426f0df2",
   "metadata": {
    "tags": []
   },
   "outputs": [
    {
     "name": "stdout",
     "output_type": "stream",
     "text": [
      "Userprofile_url\n",
      "https://www.amazon.com/gp/profile/amzn1.account.AE22V47MXXEHXMQUOMS5BBWPJQ3A/ref=cm_cr_arp_d_gw_btm?ie=UTF8     5\n",
      "https://www.amazon.com/gp/profile/amzn1.account.AE2ERWB5QOTTPUAJQ4BK6D55H4WA/ref=cm_cr_arp_d_gw_btm?ie=UTF8    15\n",
      "https://www.amazon.com/gp/profile/amzn1.account.AE2GI5TPWCRHLZMEAUKBD4NG4SGQ/ref=cm_cr_arp_d_gw_btm?ie=UTF8     3\n",
      "https://www.amazon.com/gp/profile/amzn1.account.AE2HSZHFWOIFPPSIK44EOIKCSYGA/ref=cm_cr_arp_d_gw_btm?ie=UTF8     2\n",
      "https://www.amazon.com/gp/profile/amzn1.account.AE2L3ARXHDZ3IQUCYQTKSBML7EXA/ref=cm_cr_arp_d_gw_btm?ie=UTF8    13\n",
      "                                                                                                               ..\n",
      "https://www.amazon.com/gp/profile/amzn1.account.AHZUY6X6E5EEIIZ6EJPPRZP2HLPA/ref=cm_cr_arp_d_gw_btm?ie=UTF8     8\n",
      "https://www.amazon.com/gp/profile/amzn1.account.AHZYVM6UPDBSQ4G5PNUJZJ4JUCJQ/ref=cm_cr_arp_d_gw_btm?ie=UTF8     3\n",
      "https://www.amazon.com/gp/profile/amzn1.account.AHZZ7633RGZRBFANLGNZ42VPKCVA/ref=cm_cr_arp_d_gw_btm?ie=UTF8     7\n",
      "https://www.amazon.com/gp/profile/amzn1.account.AHZZQDZH6PG5PIW2YOXTMFKZAOSA/ref=cm_cr_arp_d_gw_btm?ie=UTF8     9\n",
      "https://www.amazon.com/gp/profile/amzn1.account.AHZZZZPE45DYV2WZ2MYXZRHWSEKA/ref=cm_cr_arp_d_gw_btm?ie=UTF8    11\n",
      "Length: 1929, dtype: int64\n"
     ]
    }
   ],
   "source": [
    "# Print the number of \"Levi's Men's 559 Relaxed Straight\" reviewers' total purchase reviews.\n",
    "print(new_scraped_data.groupby(\"Userprofile_url\").size())"
   ]
  },
  {
   "cell_type": "code",
   "execution_count": 15,
   "id": "e759e2f8-2409-4de1-8bb9-59d3033e3a42",
   "metadata": {
    "tags": []
   },
   "outputs": [
    {
     "name": "stdout",
     "output_type": "stream",
     "text": [
      "Userprofile_url\n",
      "https://www.amazon.com/gp/profile/amzn1.account.AE2ERWB5QOTTPUAJQ4BK6D55H4WA/ref=cm_cr_arp_d_gw_btm?ie=UTF8    2\n",
      "https://www.amazon.com/gp/profile/amzn1.account.AE2YQEBBNG35RYMHGSPT2HRJ4GNA/ref=cm_cr_arp_d_gw_btm?ie=UTF8    2\n",
      "https://www.amazon.com/gp/profile/amzn1.account.AE3FGVTCUVP5XU7IZ6UCVMMC76UQ/ref=cm_cr_arp_d_gw_btm?ie=UTF8    2\n",
      "https://www.amazon.com/gp/profile/amzn1.account.AE3G7VCHJRIFSMV6KEICI5TH67PQ/ref=cm_cr_arp_d_gw_btm?ie=UTF8    2\n",
      "https://www.amazon.com/gp/profile/amzn1.account.AE3KTA65P4LK57EGLJEFLHPLKGZA/ref=cm_cr_arp_d_gw_btm?ie=UTF8    1\n",
      "                                                                                                              ..\n",
      "https://www.amazon.com/gp/profile/amzn1.account.AHZ2DBSTL45BPLNLZGKCIG6U3BDQ/ref=cm_cr_arp_d_gw_btm?ie=UTF8    1\n",
      "https://www.amazon.com/gp/profile/amzn1.account.AHZ5WA3W4CSE5GMPVAIRVMPRQO2A/ref=cm_cr_arp_d_gw_btm?ie=UTF8    3\n",
      "https://www.amazon.com/gp/profile/amzn1.account.AHZFRB5VB5VWX6KTCFHCPS7HU5SQ/ref=cm_cr_arp_d_gw_btm?ie=UTF8    1\n",
      "https://www.amazon.com/gp/profile/amzn1.account.AHZRO7SUVITR3UVYDR362A7VBVMA/ref=cm_cr_arp_d_gw_btm?ie=UTF8    1\n",
      "https://www.amazon.com/gp/profile/amzn1.account.AHZSKKATJREB3P2BMOJNNZVMXPMQ/ref=cm_cr_arp_d_gw_btm?ie=UTF8    2\n",
      "Length: 444, dtype: int64\n"
     ]
    }
   ],
   "source": [
    "# Print the number of \"Levi's Men's 559 Relaxed Straight\" reviewers' total unverified purchase reviews.\n",
    "print(new_scraped_data[new_scraped_data[\"verified_review\"]==\"N\"].groupby(\"Userprofile_url\").size())"
   ]
  },
  {
   "cell_type": "code",
   "execution_count": 16,
   "id": "6b93f604-712f-487f-a8b2-b474e488fab4",
   "metadata": {
    "tags": []
   },
   "outputs": [],
   "source": [
    "#From new scrapped data, data_verified_reviews keeps only verified purchases\n",
    "data_verified_reviews = new_scraped_data[new_scraped_data[\"verified_review\"]==\"Y\"]\n"
   ]
  },
  {
   "cell_type": "code",
   "execution_count": 17,
   "id": "6e1a9a68-e17a-44e0-bed1-edfec73f3ddd",
   "metadata": {
    "tags": []
   },
   "outputs": [
    {
     "data": {
      "text/html": [
       "<div>\n",
       "<style scoped>\n",
       "    .dataframe tbody tr th:only-of-type {\n",
       "        vertical-align: middle;\n",
       "    }\n",
       "\n",
       "    .dataframe tbody tr th {\n",
       "        vertical-align: top;\n",
       "    }\n",
       "\n",
       "    .dataframe thead th {\n",
       "        text-align: right;\n",
       "    }\n",
       "</style>\n",
       "<table border=\"1\" class=\"dataframe\">\n",
       "  <thead>\n",
       "    <tr style=\"text-align: right;\">\n",
       "      <th></th>\n",
       "      <th>count</th>\n",
       "      <th>unique</th>\n",
       "      <th>top</th>\n",
       "      <th>freq</th>\n",
       "    </tr>\n",
       "  </thead>\n",
       "  <tbody>\n",
       "    <tr>\n",
       "      <th>Userprofile_url</th>\n",
       "      <td>17363</td>\n",
       "      <td>1929</td>\n",
       "      <td>https://www.amazon.com/gp/profile/amzn1.accoun...</td>\n",
       "      <td>33</td>\n",
       "    </tr>\n",
       "    <tr>\n",
       "      <th>Username</th>\n",
       "      <td>17363</td>\n",
       "      <td>1700</td>\n",
       "      <td>Amazon Customer</td>\n",
       "      <td>1167</td>\n",
       "    </tr>\n",
       "    <tr>\n",
       "      <th>Reviewdate</th>\n",
       "      <td>17363</td>\n",
       "      <td>2310</td>\n",
       "      <td>17/02/2023</td>\n",
       "      <td>55</td>\n",
       "    </tr>\n",
       "    <tr>\n",
       "      <th>Productname</th>\n",
       "      <td>17363</td>\n",
       "      <td>14057</td>\n",
       "      <td>Levi's Men's 559 Relaxed Straight Jeans (Also ...</td>\n",
       "      <td>1345</td>\n",
       "    </tr>\n",
       "    <tr>\n",
       "      <th>review_title</th>\n",
       "      <td>17362</td>\n",
       "      <td>13328</td>\n",
       "      <td>Five Stars</td>\n",
       "      <td>273</td>\n",
       "    </tr>\n",
       "    <tr>\n",
       "      <th>review_text</th>\n",
       "      <td>17363</td>\n",
       "      <td>16419</td>\n",
       "      <td>unavailable</td>\n",
       "      <td>91</td>\n",
       "    </tr>\n",
       "    <tr>\n",
       "      <th>categoryfirst_breadcrumb</th>\n",
       "      <td>17363</td>\n",
       "      <td>68</td>\n",
       "      <td>Clothing, Shoes &amp; Jewelry</td>\n",
       "      <td>4953</td>\n",
       "    </tr>\n",
       "    <tr>\n",
       "      <th>allbreadcrumbs</th>\n",
       "      <td>17363</td>\n",
       "      <td>4917</td>\n",
       "      <td>Men, Clothing, Jeans</td>\n",
       "      <td>1511</td>\n",
       "    </tr>\n",
       "    <tr>\n",
       "      <th>price</th>\n",
       "      <td>17363</td>\n",
       "      <td>2571</td>\n",
       "      <td>price_unavailable</td>\n",
       "      <td>6144</td>\n",
       "    </tr>\n",
       "    <tr>\n",
       "      <th>urlproduct</th>\n",
       "      <td>17363</td>\n",
       "      <td>15748</td>\n",
       "      <td>https://www.amazon.com/Levis-Mens-Relaxed-Stra...</td>\n",
       "      <td>556</td>\n",
       "    </tr>\n",
       "    <tr>\n",
       "      <th>verified_review</th>\n",
       "      <td>17363</td>\n",
       "      <td>1</td>\n",
       "      <td>Y</td>\n",
       "      <td>17363</td>\n",
       "    </tr>\n",
       "  </tbody>\n",
       "</table>\n",
       "</div>"
      ],
      "text/plain": [
       "                          count unique  \\\n",
       "Userprofile_url           17363   1929   \n",
       "Username                  17363   1700   \n",
       "Reviewdate                17363   2310   \n",
       "Productname               17363  14057   \n",
       "review_title              17362  13328   \n",
       "review_text               17363  16419   \n",
       "categoryfirst_breadcrumb  17363     68   \n",
       "allbreadcrumbs            17363   4917   \n",
       "price                     17363   2571   \n",
       "urlproduct                17363  15748   \n",
       "verified_review           17363      1   \n",
       "\n",
       "                                                                        top  \\\n",
       "Userprofile_url           https://www.amazon.com/gp/profile/amzn1.accoun...   \n",
       "Username                                                    Amazon Customer   \n",
       "Reviewdate                                                       17/02/2023   \n",
       "Productname               Levi's Men's 559 Relaxed Straight Jeans (Also ...   \n",
       "review_title                                                     Five Stars   \n",
       "review_text                                                     unavailable   \n",
       "categoryfirst_breadcrumb                          Clothing, Shoes & Jewelry   \n",
       "allbreadcrumbs                                         Men, Clothing, Jeans   \n",
       "price                                                     price_unavailable   \n",
       "urlproduct                https://www.amazon.com/Levis-Mens-Relaxed-Stra...   \n",
       "verified_review                                                           Y   \n",
       "\n",
       "                           freq  \n",
       "Userprofile_url              33  \n",
       "Username                   1167  \n",
       "Reviewdate                   55  \n",
       "Productname                1345  \n",
       "review_title                273  \n",
       "review_text                  91  \n",
       "categoryfirst_breadcrumb   4953  \n",
       "allbreadcrumbs             1511  \n",
       "price                      6144  \n",
       "urlproduct                  556  \n",
       "verified_review           17363  "
      ]
     },
     "execution_count": 17,
     "metadata": {},
     "output_type": "execute_result"
    }
   ],
   "source": [
    "#Only verified purchases summary statistics \n",
    "data_verified_reviews.describe(include='all').T"
   ]
  },
  {
   "cell_type": "code",
   "execution_count": 18,
   "id": "0848eb1e-e92a-4b81-90bb-e7490926787c",
   "metadata": {
    "tags": []
   },
   "outputs": [
    {
     "name": "stdout",
     "output_type": "stream",
     "text": [
      "9.0\n"
     ]
    }
   ],
   "source": [
    "# Print average number of reviews per unique reviewer\n",
    "print(data_verified_reviews.groupby(\"Userprofile_url\").size().mean().round(2))"
   ]
  },
  {
   "cell_type": "code",
   "execution_count": 19,
   "id": "4875847a-bdf7-4d6b-af64-7a5f45c3d4d5",
   "metadata": {
    "tags": []
   },
   "outputs": [],
   "source": [
    "# Reindex\n",
    "data_verified_reviews = data_verified_reviews.reset_index(drop=True)"
   ]
  },
  {
   "cell_type": "code",
   "execution_count": 20,
   "id": "79079be8-df6b-4b90-b7a0-36d998548d79",
   "metadata": {
    "tags": []
   },
   "outputs": [
    {
     "name": "stdout",
     "output_type": "stream",
     "text": [
      "<class 'pandas.core.frame.DataFrame'>\n",
      "RangeIndex: 17363 entries, 0 to 17362\n",
      "Data columns (total 11 columns):\n",
      " #   Column                    Non-Null Count  Dtype \n",
      "---  ------                    --------------  ----- \n",
      " 0   Userprofile_url           17363 non-null  object\n",
      " 1   Username                  17363 non-null  object\n",
      " 2   Reviewdate                17363 non-null  object\n",
      " 3   Productname               17363 non-null  object\n",
      " 4   review_title              17362 non-null  object\n",
      " 5   review_text               17363 non-null  object\n",
      " 6   categoryfirst_breadcrumb  17363 non-null  object\n",
      " 7   allbreadcrumbs            17363 non-null  object\n",
      " 8   price                     17363 non-null  object\n",
      " 9   urlproduct                17363 non-null  object\n",
      " 10  verified_review           17363 non-null  object\n",
      "dtypes: object(11)\n",
      "memory usage: 1.5+ MB\n"
     ]
    }
   ],
   "source": [
    "data_verified_reviews.info()"
   ]
  },
  {
   "cell_type": "code",
   "execution_count": 21,
   "id": "7275e6d8-e0fa-49eb-a4c3-c11e4bc527fc",
   "metadata": {
    "tags": []
   },
   "outputs": [
    {
     "data": {
      "text/plain": [
       "Userprofile_url             https://www.amazon.com/gp/profile/amzn1.accoun...\n",
       "Username                                                               zz59dp\n",
       "Reviewdate                                                         24/08/2019\n",
       "Productname                 5.0L Coyote V8 Silver on Black Highly Polished...\n",
       "review_title                                                        Came bent\n",
       "review_text                                                           Damaged\n",
       "categoryfirst_breadcrumb                                           Automotive\n",
       "allbreadcrumbs              Exterior Accessories, Bumper Stickers, Decals ...\n",
       "price                                                       price_unavailable\n",
       "urlproduct                  https://www.amazon.com/Coyote-Silver-Highly-Po...\n",
       "verified_review                                                             Y\n",
       "Name: 17362, dtype: object"
      ]
     },
     "execution_count": 21,
     "metadata": {},
     "output_type": "execute_result"
    }
   ],
   "source": [
    "#Check last row\n",
    "data_verified_reviews.iloc[-1]"
   ]
  },
  {
   "cell_type": "code",
   "execution_count": 22,
   "id": "8a54c6b8-2975-4832-b8c3-fa78fa911602",
   "metadata": {
    "collapsed": true,
    "jupyter": {
     "outputs_hidden": true
    },
    "tags": []
   },
   "outputs": [
    {
     "name": "stdout",
     "output_type": "stream",
     "text": [
      "\"Page found!\" in the title tag of the page: https://www.amazon.com/Gildan-Heavy-Blend-Crewneck-Sweatshirt/dp/B01M1OM58J/ref=cm_cr_srp_d_product_top?ie=UTF8\n",
      "\"Page found!\" in the title tag of the page: https://www.amazon.com/Lessons-Official-Jiu-Jitsu-Vivification/dp/B08KQ9911T/ref=cm_cr_srp_d_product_top?ie=UTF8\n",
      "\"Page found!\" in the title tag of the page: https://www.amazon.com/Urban-Star-Mens-Jeans-Relaxed/dp/B09HRJMNX9/ref=cm_cr_srp_d_product_top?ie=UTF8\n",
      "\"Page found!\" in the title tag of the page: https://www.amazon.com/Levis-Relaxed-Straight-Tumbled-Rigid/dp/B003UMIFE8?ref=pf_vv_at_pdctrvw_dp\n",
      "\"Page found!\" in the title tag of the page: https://www.amazon.com/Levis-Mens-Relaxed-Straight-Stonewash/dp/B085WTDB4K?ref=pf_vv_at_pdctrvw_dp\n",
      "\"Page found!\" in the title tag of the page: https://www.amazon.com/Phoenix-Transformation-Qualities-Achievers-Reboot-ebook/dp/B08TX69DP7/ref=cm_cr_srp_d_product_top?ie=UTF8\n"
     ]
    },
    {
     "ename": "KeyboardInterrupt",
     "evalue": "",
     "output_type": "error",
     "traceback": [
      "\u001b[1;31m---------------------------------------------------------------------------\u001b[0m",
      "\u001b[1;31mKeyboardInterrupt\u001b[0m                         Traceback (most recent call last)",
      "Cell \u001b[1;32mIn[22], line 17\u001b[0m\n\u001b[0;32m      9\u001b[0m \u001b[38;5;28;01mtry\u001b[39;00m:\n\u001b[0;32m     10\u001b[0m     \u001b[38;5;66;03m# Send a GET request to the URL\u001b[39;00m\n\u001b[0;32m     12\u001b[0m     h \u001b[38;5;241m=\u001b[39m {\n\u001b[0;32m     13\u001b[0m       \u001b[38;5;124m\"\u001b[39m\u001b[38;5;124mCache-Control\u001b[39m\u001b[38;5;124m\"\u001b[39m: \u001b[38;5;124m\"\u001b[39m\u001b[38;5;124mno-cache\u001b[39m\u001b[38;5;124m\"\u001b[39m,\n\u001b[0;32m     14\u001b[0m       \u001b[38;5;124m\"\u001b[39m\u001b[38;5;124mPragma\u001b[39m\u001b[38;5;124m\"\u001b[39m: \u001b[38;5;124m\"\u001b[39m\u001b[38;5;124mno-cache\u001b[39m\u001b[38;5;124m\"\u001b[39m, \n\u001b[0;32m     15\u001b[0m       \u001b[38;5;124m'\u001b[39m\u001b[38;5;124mUser-Agent\u001b[39m\u001b[38;5;124m'\u001b[39m: \u001b[38;5;124m'\u001b[39m\u001b[38;5;124mhttps://developers.whatismybrowser.com/useragents/parse/1274624safari-macos-webkit\u001b[39m\u001b[38;5;124m'\u001b[39m\n\u001b[0;32m     16\u001b[0m     }\n\u001b[1;32m---> 17\u001b[0m     response \u001b[38;5;241m=\u001b[39m \u001b[43mrequests\u001b[49m\u001b[38;5;241;43m.\u001b[39;49m\u001b[43mget\u001b[49m\u001b[43m(\u001b[49m\u001b[43murl\u001b[49m\u001b[43m,\u001b[49m\u001b[43m \u001b[49m\u001b[43mheaders\u001b[49m\u001b[38;5;241;43m=\u001b[39;49m\u001b[43m \u001b[49m\u001b[43mh\u001b[49m\u001b[43m)\u001b[49m\n\u001b[0;32m     18\u001b[0m     soup \u001b[38;5;241m=\u001b[39m BeautifulSoup(response\u001b[38;5;241m.\u001b[39mcontent, \u001b[38;5;124m'\u001b[39m\u001b[38;5;124mhtml.parser\u001b[39m\u001b[38;5;124m'\u001b[39m)\n\u001b[0;32m     21\u001b[0m     \u001b[38;5;66;03m# Find the <title> tag within the <head> section\u001b[39;00m\n",
      "File \u001b[1;32m~\\anaconda3\\lib\\site-packages\\requests\\api.py:73\u001b[0m, in \u001b[0;36mget\u001b[1;34m(url, params, **kwargs)\u001b[0m\n\u001b[0;32m     62\u001b[0m \u001b[38;5;28;01mdef\u001b[39;00m \u001b[38;5;21mget\u001b[39m(url, params\u001b[38;5;241m=\u001b[39m\u001b[38;5;28;01mNone\u001b[39;00m, \u001b[38;5;241m*\u001b[39m\u001b[38;5;241m*\u001b[39mkwargs):\n\u001b[0;32m     63\u001b[0m \u001b[38;5;250m    \u001b[39m\u001b[38;5;124mr\u001b[39m\u001b[38;5;124;03m\"\"\"Sends a GET request.\u001b[39;00m\n\u001b[0;32m     64\u001b[0m \n\u001b[0;32m     65\u001b[0m \u001b[38;5;124;03m    :param url: URL for the new :class:`Request` object.\u001b[39;00m\n\u001b[1;32m   (...)\u001b[0m\n\u001b[0;32m     70\u001b[0m \u001b[38;5;124;03m    :rtype: requests.Response\u001b[39;00m\n\u001b[0;32m     71\u001b[0m \u001b[38;5;124;03m    \"\"\"\u001b[39;00m\n\u001b[1;32m---> 73\u001b[0m     \u001b[38;5;28;01mreturn\u001b[39;00m request(\u001b[38;5;124m\"\u001b[39m\u001b[38;5;124mget\u001b[39m\u001b[38;5;124m\"\u001b[39m, url, params\u001b[38;5;241m=\u001b[39mparams, \u001b[38;5;241m*\u001b[39m\u001b[38;5;241m*\u001b[39mkwargs)\n",
      "File \u001b[1;32m~\\anaconda3\\lib\\site-packages\\requests\\api.py:59\u001b[0m, in \u001b[0;36mrequest\u001b[1;34m(method, url, **kwargs)\u001b[0m\n\u001b[0;32m     55\u001b[0m \u001b[38;5;66;03m# By using the 'with' statement we are sure the session is closed, thus we\u001b[39;00m\n\u001b[0;32m     56\u001b[0m \u001b[38;5;66;03m# avoid leaving sockets open which can trigger a ResourceWarning in some\u001b[39;00m\n\u001b[0;32m     57\u001b[0m \u001b[38;5;66;03m# cases, and look like a memory leak in others.\u001b[39;00m\n\u001b[0;32m     58\u001b[0m \u001b[38;5;28;01mwith\u001b[39;00m sessions\u001b[38;5;241m.\u001b[39mSession() \u001b[38;5;28;01mas\u001b[39;00m session:\n\u001b[1;32m---> 59\u001b[0m     \u001b[38;5;28;01mreturn\u001b[39;00m session\u001b[38;5;241m.\u001b[39mrequest(method\u001b[38;5;241m=\u001b[39mmethod, url\u001b[38;5;241m=\u001b[39murl, \u001b[38;5;241m*\u001b[39m\u001b[38;5;241m*\u001b[39mkwargs)\n",
      "File \u001b[1;32m~\\anaconda3\\lib\\site-packages\\requests\\sessions.py:589\u001b[0m, in \u001b[0;36mSession.request\u001b[1;34m(self, method, url, params, data, headers, cookies, files, auth, timeout, allow_redirects, proxies, hooks, stream, verify, cert, json)\u001b[0m\n\u001b[0;32m    584\u001b[0m send_kwargs \u001b[38;5;241m=\u001b[39m {\n\u001b[0;32m    585\u001b[0m     \u001b[38;5;124m\"\u001b[39m\u001b[38;5;124mtimeout\u001b[39m\u001b[38;5;124m\"\u001b[39m: timeout,\n\u001b[0;32m    586\u001b[0m     \u001b[38;5;124m\"\u001b[39m\u001b[38;5;124mallow_redirects\u001b[39m\u001b[38;5;124m\"\u001b[39m: allow_redirects,\n\u001b[0;32m    587\u001b[0m }\n\u001b[0;32m    588\u001b[0m send_kwargs\u001b[38;5;241m.\u001b[39mupdate(settings)\n\u001b[1;32m--> 589\u001b[0m resp \u001b[38;5;241m=\u001b[39m \u001b[38;5;28mself\u001b[39m\u001b[38;5;241m.\u001b[39msend(prep, \u001b[38;5;241m*\u001b[39m\u001b[38;5;241m*\u001b[39msend_kwargs)\n\u001b[0;32m    591\u001b[0m \u001b[38;5;28;01mreturn\u001b[39;00m resp\n",
      "File \u001b[1;32m~\\anaconda3\\lib\\site-packages\\requests\\sessions.py:703\u001b[0m, in \u001b[0;36mSession.send\u001b[1;34m(self, request, **kwargs)\u001b[0m\n\u001b[0;32m    700\u001b[0m start \u001b[38;5;241m=\u001b[39m preferred_clock()\n\u001b[0;32m    702\u001b[0m \u001b[38;5;66;03m# Send the request\u001b[39;00m\n\u001b[1;32m--> 703\u001b[0m r \u001b[38;5;241m=\u001b[39m adapter\u001b[38;5;241m.\u001b[39msend(request, \u001b[38;5;241m*\u001b[39m\u001b[38;5;241m*\u001b[39mkwargs)\n\u001b[0;32m    705\u001b[0m \u001b[38;5;66;03m# Total elapsed time of the request (approximately)\u001b[39;00m\n\u001b[0;32m    706\u001b[0m elapsed \u001b[38;5;241m=\u001b[39m preferred_clock() \u001b[38;5;241m-\u001b[39m start\n",
      "File \u001b[1;32m~\\anaconda3\\lib\\site-packages\\requests\\adapters.py:486\u001b[0m, in \u001b[0;36mHTTPAdapter.send\u001b[1;34m(self, request, stream, timeout, verify, cert, proxies)\u001b[0m\n\u001b[0;32m    483\u001b[0m     timeout \u001b[38;5;241m=\u001b[39m TimeoutSauce(connect\u001b[38;5;241m=\u001b[39mtimeout, read\u001b[38;5;241m=\u001b[39mtimeout)\n\u001b[0;32m    485\u001b[0m \u001b[38;5;28;01mtry\u001b[39;00m:\n\u001b[1;32m--> 486\u001b[0m     resp \u001b[38;5;241m=\u001b[39m \u001b[43mconn\u001b[49m\u001b[38;5;241;43m.\u001b[39;49m\u001b[43murlopen\u001b[49m\u001b[43m(\u001b[49m\n\u001b[0;32m    487\u001b[0m \u001b[43m        \u001b[49m\u001b[43mmethod\u001b[49m\u001b[38;5;241;43m=\u001b[39;49m\u001b[43mrequest\u001b[49m\u001b[38;5;241;43m.\u001b[39;49m\u001b[43mmethod\u001b[49m\u001b[43m,\u001b[49m\n\u001b[0;32m    488\u001b[0m \u001b[43m        \u001b[49m\u001b[43murl\u001b[49m\u001b[38;5;241;43m=\u001b[39;49m\u001b[43murl\u001b[49m\u001b[43m,\u001b[49m\n\u001b[0;32m    489\u001b[0m \u001b[43m        \u001b[49m\u001b[43mbody\u001b[49m\u001b[38;5;241;43m=\u001b[39;49m\u001b[43mrequest\u001b[49m\u001b[38;5;241;43m.\u001b[39;49m\u001b[43mbody\u001b[49m\u001b[43m,\u001b[49m\n\u001b[0;32m    490\u001b[0m \u001b[43m        \u001b[49m\u001b[43mheaders\u001b[49m\u001b[38;5;241;43m=\u001b[39;49m\u001b[43mrequest\u001b[49m\u001b[38;5;241;43m.\u001b[39;49m\u001b[43mheaders\u001b[49m\u001b[43m,\u001b[49m\n\u001b[0;32m    491\u001b[0m \u001b[43m        \u001b[49m\u001b[43mredirect\u001b[49m\u001b[38;5;241;43m=\u001b[39;49m\u001b[38;5;28;43;01mFalse\u001b[39;49;00m\u001b[43m,\u001b[49m\n\u001b[0;32m    492\u001b[0m \u001b[43m        \u001b[49m\u001b[43massert_same_host\u001b[49m\u001b[38;5;241;43m=\u001b[39;49m\u001b[38;5;28;43;01mFalse\u001b[39;49;00m\u001b[43m,\u001b[49m\n\u001b[0;32m    493\u001b[0m \u001b[43m        \u001b[49m\u001b[43mpreload_content\u001b[49m\u001b[38;5;241;43m=\u001b[39;49m\u001b[38;5;28;43;01mFalse\u001b[39;49;00m\u001b[43m,\u001b[49m\n\u001b[0;32m    494\u001b[0m \u001b[43m        \u001b[49m\u001b[43mdecode_content\u001b[49m\u001b[38;5;241;43m=\u001b[39;49m\u001b[38;5;28;43;01mFalse\u001b[39;49;00m\u001b[43m,\u001b[49m\n\u001b[0;32m    495\u001b[0m \u001b[43m        \u001b[49m\u001b[43mretries\u001b[49m\u001b[38;5;241;43m=\u001b[39;49m\u001b[38;5;28;43mself\u001b[39;49m\u001b[38;5;241;43m.\u001b[39;49m\u001b[43mmax_retries\u001b[49m\u001b[43m,\u001b[49m\n\u001b[0;32m    496\u001b[0m \u001b[43m        \u001b[49m\u001b[43mtimeout\u001b[49m\u001b[38;5;241;43m=\u001b[39;49m\u001b[43mtimeout\u001b[49m\u001b[43m,\u001b[49m\n\u001b[0;32m    497\u001b[0m \u001b[43m        \u001b[49m\u001b[43mchunked\u001b[49m\u001b[38;5;241;43m=\u001b[39;49m\u001b[43mchunked\u001b[49m\u001b[43m,\u001b[49m\n\u001b[0;32m    498\u001b[0m \u001b[43m    \u001b[49m\u001b[43m)\u001b[49m\n\u001b[0;32m    500\u001b[0m \u001b[38;5;28;01mexcept\u001b[39;00m (ProtocolError, \u001b[38;5;167;01mOSError\u001b[39;00m) \u001b[38;5;28;01mas\u001b[39;00m err:\n\u001b[0;32m    501\u001b[0m     \u001b[38;5;28;01mraise\u001b[39;00m \u001b[38;5;167;01mConnectionError\u001b[39;00m(err, request\u001b[38;5;241m=\u001b[39mrequest)\n",
      "File \u001b[1;32m~\\anaconda3\\lib\\site-packages\\urllib3\\connectionpool.py:714\u001b[0m, in \u001b[0;36mHTTPConnectionPool.urlopen\u001b[1;34m(self, method, url, body, headers, retries, redirect, assert_same_host, timeout, pool_timeout, release_conn, chunked, body_pos, **response_kw)\u001b[0m\n\u001b[0;32m    711\u001b[0m     \u001b[38;5;28mself\u001b[39m\u001b[38;5;241m.\u001b[39m_prepare_proxy(conn)\n\u001b[0;32m    713\u001b[0m \u001b[38;5;66;03m# Make the request on the httplib connection object.\u001b[39;00m\n\u001b[1;32m--> 714\u001b[0m httplib_response \u001b[38;5;241m=\u001b[39m \u001b[38;5;28;43mself\u001b[39;49m\u001b[38;5;241;43m.\u001b[39;49m\u001b[43m_make_request\u001b[49m\u001b[43m(\u001b[49m\n\u001b[0;32m    715\u001b[0m \u001b[43m    \u001b[49m\u001b[43mconn\u001b[49m\u001b[43m,\u001b[49m\n\u001b[0;32m    716\u001b[0m \u001b[43m    \u001b[49m\u001b[43mmethod\u001b[49m\u001b[43m,\u001b[49m\n\u001b[0;32m    717\u001b[0m \u001b[43m    \u001b[49m\u001b[43murl\u001b[49m\u001b[43m,\u001b[49m\n\u001b[0;32m    718\u001b[0m \u001b[43m    \u001b[49m\u001b[43mtimeout\u001b[49m\u001b[38;5;241;43m=\u001b[39;49m\u001b[43mtimeout_obj\u001b[49m\u001b[43m,\u001b[49m\n\u001b[0;32m    719\u001b[0m \u001b[43m    \u001b[49m\u001b[43mbody\u001b[49m\u001b[38;5;241;43m=\u001b[39;49m\u001b[43mbody\u001b[49m\u001b[43m,\u001b[49m\n\u001b[0;32m    720\u001b[0m \u001b[43m    \u001b[49m\u001b[43mheaders\u001b[49m\u001b[38;5;241;43m=\u001b[39;49m\u001b[43mheaders\u001b[49m\u001b[43m,\u001b[49m\n\u001b[0;32m    721\u001b[0m \u001b[43m    \u001b[49m\u001b[43mchunked\u001b[49m\u001b[38;5;241;43m=\u001b[39;49m\u001b[43mchunked\u001b[49m\u001b[43m,\u001b[49m\n\u001b[0;32m    722\u001b[0m \u001b[43m\u001b[49m\u001b[43m)\u001b[49m\n\u001b[0;32m    724\u001b[0m \u001b[38;5;66;03m# If we're going to release the connection in ``finally:``, then\u001b[39;00m\n\u001b[0;32m    725\u001b[0m \u001b[38;5;66;03m# the response doesn't need to know about the connection. Otherwise\u001b[39;00m\n\u001b[0;32m    726\u001b[0m \u001b[38;5;66;03m# it will also try to release it and we'll have a double-release\u001b[39;00m\n\u001b[0;32m    727\u001b[0m \u001b[38;5;66;03m# mess.\u001b[39;00m\n\u001b[0;32m    728\u001b[0m response_conn \u001b[38;5;241m=\u001b[39m conn \u001b[38;5;28;01mif\u001b[39;00m \u001b[38;5;129;01mnot\u001b[39;00m release_conn \u001b[38;5;28;01melse\u001b[39;00m \u001b[38;5;28;01mNone\u001b[39;00m\n",
      "File \u001b[1;32m~\\anaconda3\\lib\\site-packages\\urllib3\\connectionpool.py:466\u001b[0m, in \u001b[0;36mHTTPConnectionPool._make_request\u001b[1;34m(self, conn, method, url, timeout, chunked, **httplib_request_kw)\u001b[0m\n\u001b[0;32m    461\u001b[0m             httplib_response \u001b[38;5;241m=\u001b[39m conn\u001b[38;5;241m.\u001b[39mgetresponse()\n\u001b[0;32m    462\u001b[0m         \u001b[38;5;28;01mexcept\u001b[39;00m \u001b[38;5;167;01mBaseException\u001b[39;00m \u001b[38;5;28;01mas\u001b[39;00m e:\n\u001b[0;32m    463\u001b[0m             \u001b[38;5;66;03m# Remove the TypeError from the exception chain in\u001b[39;00m\n\u001b[0;32m    464\u001b[0m             \u001b[38;5;66;03m# Python 3 (including for exceptions like SystemExit).\u001b[39;00m\n\u001b[0;32m    465\u001b[0m             \u001b[38;5;66;03m# Otherwise it looks like a bug in the code.\u001b[39;00m\n\u001b[1;32m--> 466\u001b[0m             \u001b[43msix\u001b[49m\u001b[38;5;241;43m.\u001b[39;49m\u001b[43mraise_from\u001b[49m\u001b[43m(\u001b[49m\u001b[43me\u001b[49m\u001b[43m,\u001b[49m\u001b[43m \u001b[49m\u001b[38;5;28;43;01mNone\u001b[39;49;00m\u001b[43m)\u001b[49m\n\u001b[0;32m    467\u001b[0m \u001b[38;5;28;01mexcept\u001b[39;00m (SocketTimeout, BaseSSLError, SocketError) \u001b[38;5;28;01mas\u001b[39;00m e:\n\u001b[0;32m    468\u001b[0m     \u001b[38;5;28mself\u001b[39m\u001b[38;5;241m.\u001b[39m_raise_timeout(err\u001b[38;5;241m=\u001b[39me, url\u001b[38;5;241m=\u001b[39murl, timeout_value\u001b[38;5;241m=\u001b[39mread_timeout)\n",
      "File \u001b[1;32m<string>:3\u001b[0m, in \u001b[0;36mraise_from\u001b[1;34m(value, from_value)\u001b[0m\n",
      "File \u001b[1;32m~\\anaconda3\\lib\\site-packages\\urllib3\\connectionpool.py:461\u001b[0m, in \u001b[0;36mHTTPConnectionPool._make_request\u001b[1;34m(self, conn, method, url, timeout, chunked, **httplib_request_kw)\u001b[0m\n\u001b[0;32m    458\u001b[0m \u001b[38;5;28;01mexcept\u001b[39;00m \u001b[38;5;167;01mTypeError\u001b[39;00m:\n\u001b[0;32m    459\u001b[0m     \u001b[38;5;66;03m# Python 3\u001b[39;00m\n\u001b[0;32m    460\u001b[0m     \u001b[38;5;28;01mtry\u001b[39;00m:\n\u001b[1;32m--> 461\u001b[0m         httplib_response \u001b[38;5;241m=\u001b[39m \u001b[43mconn\u001b[49m\u001b[38;5;241;43m.\u001b[39;49m\u001b[43mgetresponse\u001b[49m\u001b[43m(\u001b[49m\u001b[43m)\u001b[49m\n\u001b[0;32m    462\u001b[0m     \u001b[38;5;28;01mexcept\u001b[39;00m \u001b[38;5;167;01mBaseException\u001b[39;00m \u001b[38;5;28;01mas\u001b[39;00m e:\n\u001b[0;32m    463\u001b[0m         \u001b[38;5;66;03m# Remove the TypeError from the exception chain in\u001b[39;00m\n\u001b[0;32m    464\u001b[0m         \u001b[38;5;66;03m# Python 3 (including for exceptions like SystemExit).\u001b[39;00m\n\u001b[0;32m    465\u001b[0m         \u001b[38;5;66;03m# Otherwise it looks like a bug in the code.\u001b[39;00m\n\u001b[0;32m    466\u001b[0m         six\u001b[38;5;241m.\u001b[39mraise_from(e, \u001b[38;5;28;01mNone\u001b[39;00m)\n",
      "File \u001b[1;32m~\\anaconda3\\lib\\http\\client.py:1374\u001b[0m, in \u001b[0;36mHTTPConnection.getresponse\u001b[1;34m(self)\u001b[0m\n\u001b[0;32m   1372\u001b[0m \u001b[38;5;28;01mtry\u001b[39;00m:\n\u001b[0;32m   1373\u001b[0m     \u001b[38;5;28;01mtry\u001b[39;00m:\n\u001b[1;32m-> 1374\u001b[0m         \u001b[43mresponse\u001b[49m\u001b[38;5;241;43m.\u001b[39;49m\u001b[43mbegin\u001b[49m\u001b[43m(\u001b[49m\u001b[43m)\u001b[49m\n\u001b[0;32m   1375\u001b[0m     \u001b[38;5;28;01mexcept\u001b[39;00m \u001b[38;5;167;01mConnectionError\u001b[39;00m:\n\u001b[0;32m   1376\u001b[0m         \u001b[38;5;28mself\u001b[39m\u001b[38;5;241m.\u001b[39mclose()\n",
      "File \u001b[1;32m~\\anaconda3\\lib\\http\\client.py:318\u001b[0m, in \u001b[0;36mHTTPResponse.begin\u001b[1;34m(self)\u001b[0m\n\u001b[0;32m    316\u001b[0m \u001b[38;5;66;03m# read until we get a non-100 response\u001b[39;00m\n\u001b[0;32m    317\u001b[0m \u001b[38;5;28;01mwhile\u001b[39;00m \u001b[38;5;28;01mTrue\u001b[39;00m:\n\u001b[1;32m--> 318\u001b[0m     version, status, reason \u001b[38;5;241m=\u001b[39m \u001b[38;5;28;43mself\u001b[39;49m\u001b[38;5;241;43m.\u001b[39;49m\u001b[43m_read_status\u001b[49m\u001b[43m(\u001b[49m\u001b[43m)\u001b[49m\n\u001b[0;32m    319\u001b[0m     \u001b[38;5;28;01mif\u001b[39;00m status \u001b[38;5;241m!=\u001b[39m CONTINUE:\n\u001b[0;32m    320\u001b[0m         \u001b[38;5;28;01mbreak\u001b[39;00m\n",
      "File \u001b[1;32m~\\anaconda3\\lib\\http\\client.py:279\u001b[0m, in \u001b[0;36mHTTPResponse._read_status\u001b[1;34m(self)\u001b[0m\n\u001b[0;32m    278\u001b[0m \u001b[38;5;28;01mdef\u001b[39;00m \u001b[38;5;21m_read_status\u001b[39m(\u001b[38;5;28mself\u001b[39m):\n\u001b[1;32m--> 279\u001b[0m     line \u001b[38;5;241m=\u001b[39m \u001b[38;5;28mstr\u001b[39m(\u001b[38;5;28;43mself\u001b[39;49m\u001b[38;5;241;43m.\u001b[39;49m\u001b[43mfp\u001b[49m\u001b[38;5;241;43m.\u001b[39;49m\u001b[43mreadline\u001b[49m\u001b[43m(\u001b[49m\u001b[43m_MAXLINE\u001b[49m\u001b[43m \u001b[49m\u001b[38;5;241;43m+\u001b[39;49m\u001b[43m \u001b[49m\u001b[38;5;241;43m1\u001b[39;49m\u001b[43m)\u001b[49m, \u001b[38;5;124m\"\u001b[39m\u001b[38;5;124miso-8859-1\u001b[39m\u001b[38;5;124m\"\u001b[39m)\n\u001b[0;32m    280\u001b[0m     \u001b[38;5;28;01mif\u001b[39;00m \u001b[38;5;28mlen\u001b[39m(line) \u001b[38;5;241m>\u001b[39m _MAXLINE:\n\u001b[0;32m    281\u001b[0m         \u001b[38;5;28;01mraise\u001b[39;00m LineTooLong(\u001b[38;5;124m\"\u001b[39m\u001b[38;5;124mstatus line\u001b[39m\u001b[38;5;124m\"\u001b[39m)\n",
      "File \u001b[1;32m~\\anaconda3\\lib\\socket.py:705\u001b[0m, in \u001b[0;36mSocketIO.readinto\u001b[1;34m(self, b)\u001b[0m\n\u001b[0;32m    703\u001b[0m \u001b[38;5;28;01mwhile\u001b[39;00m \u001b[38;5;28;01mTrue\u001b[39;00m:\n\u001b[0;32m    704\u001b[0m     \u001b[38;5;28;01mtry\u001b[39;00m:\n\u001b[1;32m--> 705\u001b[0m         \u001b[38;5;28;01mreturn\u001b[39;00m \u001b[38;5;28;43mself\u001b[39;49m\u001b[38;5;241;43m.\u001b[39;49m\u001b[43m_sock\u001b[49m\u001b[38;5;241;43m.\u001b[39;49m\u001b[43mrecv_into\u001b[49m\u001b[43m(\u001b[49m\u001b[43mb\u001b[49m\u001b[43m)\u001b[49m\n\u001b[0;32m    706\u001b[0m     \u001b[38;5;28;01mexcept\u001b[39;00m timeout:\n\u001b[0;32m    707\u001b[0m         \u001b[38;5;28mself\u001b[39m\u001b[38;5;241m.\u001b[39m_timeout_occurred \u001b[38;5;241m=\u001b[39m \u001b[38;5;28;01mTrue\u001b[39;00m\n",
      "File \u001b[1;32m~\\anaconda3\\lib\\ssl.py:1274\u001b[0m, in \u001b[0;36mSSLSocket.recv_into\u001b[1;34m(self, buffer, nbytes, flags)\u001b[0m\n\u001b[0;32m   1270\u001b[0m     \u001b[38;5;28;01mif\u001b[39;00m flags \u001b[38;5;241m!=\u001b[39m \u001b[38;5;241m0\u001b[39m:\n\u001b[0;32m   1271\u001b[0m         \u001b[38;5;28;01mraise\u001b[39;00m \u001b[38;5;167;01mValueError\u001b[39;00m(\n\u001b[0;32m   1272\u001b[0m           \u001b[38;5;124m\"\u001b[39m\u001b[38;5;124mnon-zero flags not allowed in calls to recv_into() on \u001b[39m\u001b[38;5;132;01m%s\u001b[39;00m\u001b[38;5;124m\"\u001b[39m \u001b[38;5;241m%\u001b[39m\n\u001b[0;32m   1273\u001b[0m           \u001b[38;5;28mself\u001b[39m\u001b[38;5;241m.\u001b[39m\u001b[38;5;18m__class__\u001b[39m)\n\u001b[1;32m-> 1274\u001b[0m     \u001b[38;5;28;01mreturn\u001b[39;00m \u001b[38;5;28;43mself\u001b[39;49m\u001b[38;5;241;43m.\u001b[39;49m\u001b[43mread\u001b[49m\u001b[43m(\u001b[49m\u001b[43mnbytes\u001b[49m\u001b[43m,\u001b[49m\u001b[43m \u001b[49m\u001b[43mbuffer\u001b[49m\u001b[43m)\u001b[49m\n\u001b[0;32m   1275\u001b[0m \u001b[38;5;28;01melse\u001b[39;00m:\n\u001b[0;32m   1276\u001b[0m     \u001b[38;5;28;01mreturn\u001b[39;00m \u001b[38;5;28msuper\u001b[39m()\u001b[38;5;241m.\u001b[39mrecv_into(buffer, nbytes, flags)\n",
      "File \u001b[1;32m~\\anaconda3\\lib\\ssl.py:1130\u001b[0m, in \u001b[0;36mSSLSocket.read\u001b[1;34m(self, len, buffer)\u001b[0m\n\u001b[0;32m   1128\u001b[0m \u001b[38;5;28;01mtry\u001b[39;00m:\n\u001b[0;32m   1129\u001b[0m     \u001b[38;5;28;01mif\u001b[39;00m buffer \u001b[38;5;129;01mis\u001b[39;00m \u001b[38;5;129;01mnot\u001b[39;00m \u001b[38;5;28;01mNone\u001b[39;00m:\n\u001b[1;32m-> 1130\u001b[0m         \u001b[38;5;28;01mreturn\u001b[39;00m \u001b[38;5;28;43mself\u001b[39;49m\u001b[38;5;241;43m.\u001b[39;49m\u001b[43m_sslobj\u001b[49m\u001b[38;5;241;43m.\u001b[39;49m\u001b[43mread\u001b[49m\u001b[43m(\u001b[49m\u001b[38;5;28;43mlen\u001b[39;49m\u001b[43m,\u001b[49m\u001b[43m \u001b[49m\u001b[43mbuffer\u001b[49m\u001b[43m)\u001b[49m\n\u001b[0;32m   1131\u001b[0m     \u001b[38;5;28;01melse\u001b[39;00m:\n\u001b[0;32m   1132\u001b[0m         \u001b[38;5;28;01mreturn\u001b[39;00m \u001b[38;5;28mself\u001b[39m\u001b[38;5;241m.\u001b[39m_sslobj\u001b[38;5;241m.\u001b[39mread(\u001b[38;5;28mlen\u001b[39m)\n",
      "\u001b[1;31mKeyboardInterrupt\u001b[0m: "
     ]
    }
   ],
   "source": [
    "df = data_verified_reviews\n",
    "url_column = 'urlproduct'  \n",
    "\n",
    "# Create a new column for the Page not founf feedback. No = found Yes = not found\n",
    "df['Feedback'] = ''\n",
    "\n",
    "# Iterate over each URL in the column\n",
    "for index, url in enumerate(df[url_column]):\n",
    "    try:\n",
    "        # Send a GET request to the URL\n",
    "        \n",
    "        h = {\n",
    "          \"Cache-Control\": \"no-cache\",\n",
    "          \"Pragma\": \"no-cache\", \n",
    "          'User-Agent': 'https://developers.whatismybrowser.com/useragents/parse/1274624safari-macos-webkit'\n",
    "        }\n",
    "        response = requests.get(url, headers= h)\n",
    "        soup = BeautifulSoup(response.content, 'html.parser')\n",
    "        \n",
    "        \n",
    "        # Find the <title> tag within the <head> section\n",
    "        title_tag = soup.head.title\n",
    "        #\n",
    "        #print(url, title_tag, soup)\n",
    "        if title_tag == None:\n",
    "            title_tag = \"\"\n",
    "        else: \n",
    "            title_tag = title_tag.text\n",
    "        \n",
    "          \n",
    "        \n",
    "        # Check if the <title> tag contains \"Page Not Found\"\n",
    "        if \"Page Not Found\" in title_tag:\n",
    "            df.at[index, 'Feedback'] = 'yes'\n",
    "            print(f'Found \"Page Not Found\" in the title tag of the page: {url}')\n",
    "        else:\n",
    "            df.at[index, 'Feedback'] = 'no'\n",
    "            print(f'\"Page found!\" in the title tag of the page: {url}')\n",
    "            \n",
    "    except requests.exceptions.RequestException as e:\n",
    "        df.at[index, 'Feedback'] = 'error'\n",
    "        print(f'Error accessing URL: {url}')\n",
    "        print(e)\n",
    "\n",
    "# Save the updated DataFrame to a new Excel file\n",
    "df.to_excel('pagenotfound1.xlsx', index=False)"
   ]
  },
  {
   "cell_type": "code",
   "execution_count": 23,
   "id": "17c549a4-7cc0-4d16-8763-d01d079d08eb",
   "metadata": {
    "tags": []
   },
   "outputs": [],
   "source": [
    "pagenotfound1 = pd.read_excel(\"pagenotfound1.xlsx\")"
   ]
  },
  {
   "cell_type": "code",
   "execution_count": 24,
   "id": "767d0e9d-90d7-4a70-b827-0566b8152544",
   "metadata": {
    "tags": []
   },
   "outputs": [
    {
     "data": {
      "text/html": [
       "<div>\n",
       "<style scoped>\n",
       "    .dataframe tbody tr th:only-of-type {\n",
       "        vertical-align: middle;\n",
       "    }\n",
       "\n",
       "    .dataframe tbody tr th {\n",
       "        vertical-align: top;\n",
       "    }\n",
       "\n",
       "    .dataframe thead th {\n",
       "        text-align: right;\n",
       "    }\n",
       "</style>\n",
       "<table border=\"1\" class=\"dataframe\">\n",
       "  <thead>\n",
       "    <tr style=\"text-align: right;\">\n",
       "      <th></th>\n",
       "      <th>Userprofile_url</th>\n",
       "      <th>Username</th>\n",
       "      <th>Reviewdate</th>\n",
       "      <th>Productname</th>\n",
       "      <th>review_title</th>\n",
       "      <th>review_text</th>\n",
       "      <th>categoryfirst_breadcrumb</th>\n",
       "      <th>allbreadcrumbs</th>\n",
       "      <th>price</th>\n",
       "      <th>urlproduct</th>\n",
       "      <th>verified_review</th>\n",
       "      <th>Feedback</th>\n",
       "    </tr>\n",
       "  </thead>\n",
       "  <tbody>\n",
       "    <tr>\n",
       "      <th>0</th>\n",
       "      <td>https://www.amazon.com/gp/profile/amzn1.accoun...</td>\n",
       "      <td>Damien Toler</td>\n",
       "      <td>01/11/2022</td>\n",
       "      <td>Auto World Diecast, 2018 Dodge Challenger SRT ...</td>\n",
       "      <td>A excellent replica of a modern classic!</td>\n",
       "      <td>Well executed and accurately detailed...Auto W...</td>\n",
       "      <td>Toys &amp; Games</td>\n",
       "      <td>Kids Gift Guide, Shop Toys by Character, Shop ...</td>\n",
       "      <td>price_unavailable</td>\n",
       "      <td>https://www.amazon.com/Challenger-Worldwide-Di...</td>\n",
       "      <td>Y</td>\n",
       "      <td>no</td>\n",
       "    </tr>\n",
       "    <tr>\n",
       "      <th>1</th>\n",
       "      <td>https://www.amazon.com/gp/profile/amzn1.accoun...</td>\n",
       "      <td>Damien Toler</td>\n",
       "      <td>01/11/2022</td>\n",
       "      <td>Collectibles Greenlight 44940-E Hollywood Seri...</td>\n",
       "      <td>Real nice!</td>\n",
       "      <td>A beautifully done replica of a iconic car fro...</td>\n",
       "      <td>Toys &amp; Games</td>\n",
       "      <td>Kids Gift Guide, Shop Toys by Character, Shop ...</td>\n",
       "      <td>price_unavailable</td>\n",
       "      <td>https://www.amazon.com/Collectibles-Greenlight...</td>\n",
       "      <td>Y</td>\n",
       "      <td>no</td>\n",
       "    </tr>\n",
       "    <tr>\n",
       "      <th>2</th>\n",
       "      <td>https://www.amazon.com/gp/profile/amzn1.accoun...</td>\n",
       "      <td>Damien Toler</td>\n",
       "      <td>01/11/2022</td>\n",
       "      <td>Nautica Men's Classic Cotton Loose Knit Boxer</td>\n",
       "      <td>Very comfortable!</td>\n",
       "      <td>Well made and the way the underwear look...is ...</td>\n",
       "      <td>Clothing, Shoes &amp; Jewelry</td>\n",
       "      <td>Men, Clothing, Underwear, Boxers</td>\n",
       "      <td>$20.63</td>\n",
       "      <td>https://www.amazon.com/Nautica-Classic-Cotton-...</td>\n",
       "      <td>Y</td>\n",
       "      <td>no</td>\n",
       "    </tr>\n",
       "    <tr>\n",
       "      <th>3</th>\n",
       "      <td>https://www.amazon.com/gp/profile/amzn1.accoun...</td>\n",
       "      <td>Damien Toler</td>\n",
       "      <td>01/11/2022</td>\n",
       "      <td>1980 Chevy Monte Carlo Yellow Limited Edition ...</td>\n",
       "      <td>A Beautiful car!</td>\n",
       "      <td>This diecast replica is so beautiful and accur...</td>\n",
       "      <td>Arts, Crafts &amp; Sewing</td>\n",
       "      <td>Model &amp; Hobby Building, Pre-Built &amp; Diecast Mo...</td>\n",
       "      <td>price_unavailable</td>\n",
       "      <td>https://www.amazon.com/Limited-Worldwide-Johnn...</td>\n",
       "      <td>Y</td>\n",
       "      <td>no</td>\n",
       "    </tr>\n",
       "    <tr>\n",
       "      <th>4</th>\n",
       "      <td>https://www.amazon.com/gp/profile/amzn1.accoun...</td>\n",
       "      <td>Damien Toler</td>\n",
       "      <td>01/11/2022</td>\n",
       "      <td>Johnny Lightning - Green Hornet 1966 Chrysler ...</td>\n",
       "      <td>A beautiful replica of a pop culture iconic ve...</td>\n",
       "      <td>It would be cool if the hood could open but ot...</td>\n",
       "      <td>Toys &amp; Games</td>\n",
       "      <td>Vehicles, Cars &amp; Race Cars</td>\n",
       "      <td>price_unavailable</td>\n",
       "      <td>https://www.amazon.com/Johnny-Lightning-Chrysl...</td>\n",
       "      <td>Y</td>\n",
       "      <td>no</td>\n",
       "    </tr>\n",
       "  </tbody>\n",
       "</table>\n",
       "</div>"
      ],
      "text/plain": [
       "                                     Userprofile_url      Username  \\\n",
       "0  https://www.amazon.com/gp/profile/amzn1.accoun...  Damien Toler   \n",
       "1  https://www.amazon.com/gp/profile/amzn1.accoun...  Damien Toler   \n",
       "2  https://www.amazon.com/gp/profile/amzn1.accoun...  Damien Toler   \n",
       "3  https://www.amazon.com/gp/profile/amzn1.accoun...  Damien Toler   \n",
       "4  https://www.amazon.com/gp/profile/amzn1.accoun...  Damien Toler   \n",
       "\n",
       "   Reviewdate                                        Productname  \\\n",
       "0  01/11/2022  Auto World Diecast, 2018 Dodge Challenger SRT ...   \n",
       "1  01/11/2022  Collectibles Greenlight 44940-E Hollywood Seri...   \n",
       "2  01/11/2022      Nautica Men's Classic Cotton Loose Knit Boxer   \n",
       "3  01/11/2022  1980 Chevy Monte Carlo Yellow Limited Edition ...   \n",
       "4  01/11/2022  Johnny Lightning - Green Hornet 1966 Chrysler ...   \n",
       "\n",
       "                                        review_title  \\\n",
       "0           A excellent replica of a modern classic!   \n",
       "1                                         Real nice!   \n",
       "2                                  Very comfortable!   \n",
       "3                                   A Beautiful car!   \n",
       "4  A beautiful replica of a pop culture iconic ve...   \n",
       "\n",
       "                                         review_text  \\\n",
       "0  Well executed and accurately detailed...Auto W...   \n",
       "1  A beautifully done replica of a iconic car fro...   \n",
       "2  Well made and the way the underwear look...is ...   \n",
       "3  This diecast replica is so beautiful and accur...   \n",
       "4  It would be cool if the hood could open but ot...   \n",
       "\n",
       "    categoryfirst_breadcrumb  \\\n",
       "0               Toys & Games   \n",
       "1               Toys & Games   \n",
       "2  Clothing, Shoes & Jewelry   \n",
       "3      Arts, Crafts & Sewing   \n",
       "4               Toys & Games   \n",
       "\n",
       "                                      allbreadcrumbs              price  \\\n",
       "0  Kids Gift Guide, Shop Toys by Character, Shop ...  price_unavailable   \n",
       "1  Kids Gift Guide, Shop Toys by Character, Shop ...  price_unavailable   \n",
       "2                   Men, Clothing, Underwear, Boxers             $20.63   \n",
       "3  Model & Hobby Building, Pre-Built & Diecast Mo...  price_unavailable   \n",
       "4                         Vehicles, Cars & Race Cars  price_unavailable   \n",
       "\n",
       "                                          urlproduct verified_review Feedback  \n",
       "0  https://www.amazon.com/Challenger-Worldwide-Di...               Y       no  \n",
       "1  https://www.amazon.com/Collectibles-Greenlight...               Y       no  \n",
       "2  https://www.amazon.com/Nautica-Classic-Cotton-...               Y       no  \n",
       "3  https://www.amazon.com/Limited-Worldwide-Johnn...               Y       no  \n",
       "4  https://www.amazon.com/Johnny-Lightning-Chrysl...               Y       no  "
      ]
     },
     "execution_count": 24,
     "metadata": {},
     "output_type": "execute_result"
    }
   ],
   "source": [
    "pagenotfound1.head()"
   ]
  },
  {
   "cell_type": "code",
   "execution_count": 25,
   "id": "32c84fc0-b613-4846-9a42-d1bd9e59c61a",
   "metadata": {
    "tags": []
   },
   "outputs": [
    {
     "name": "stdout",
     "output_type": "stream",
     "text": [
      "<class 'pandas.core.frame.DataFrame'>\n",
      "RangeIndex: 17214 entries, 0 to 17213\n",
      "Data columns (total 12 columns):\n",
      " #   Column                    Non-Null Count  Dtype \n",
      "---  ------                    --------------  ----- \n",
      " 0   Userprofile_url           17214 non-null  object\n",
      " 1   Username                  17214 non-null  object\n",
      " 2   Reviewdate                17214 non-null  object\n",
      " 3   Productname               17214 non-null  object\n",
      " 4   review_title              16889 non-null  object\n",
      " 5   review_text               17152 non-null  object\n",
      " 6   categoryfirst_breadcrumb  17210 non-null  object\n",
      " 7   allbreadcrumbs            17198 non-null  object\n",
      " 8   price                     17214 non-null  object\n",
      " 9   urlproduct                17214 non-null  object\n",
      " 10  verified_review           17214 non-null  object\n",
      " 11  Feedback                  17214 non-null  object\n",
      "dtypes: object(12)\n",
      "memory usage: 1.6+ MB\n"
     ]
    }
   ],
   "source": [
    "pagenotfound1.info()"
   ]
  },
  {
   "cell_type": "code",
   "execution_count": 26,
   "id": "b21a7f70-3e06-4a69-83f7-57a26c0729ee",
   "metadata": {
    "tags": []
   },
   "outputs": [
    {
     "data": {
      "text/html": [
       "<div>\n",
       "<style scoped>\n",
       "    .dataframe tbody tr th:only-of-type {\n",
       "        vertical-align: middle;\n",
       "    }\n",
       "\n",
       "    .dataframe tbody tr th {\n",
       "        vertical-align: top;\n",
       "    }\n",
       "\n",
       "    .dataframe thead th {\n",
       "        text-align: right;\n",
       "    }\n",
       "</style>\n",
       "<table border=\"1\" class=\"dataframe\">\n",
       "  <thead>\n",
       "    <tr style=\"text-align: right;\">\n",
       "      <th></th>\n",
       "      <th>count</th>\n",
       "      <th>unique</th>\n",
       "      <th>top</th>\n",
       "      <th>freq</th>\n",
       "    </tr>\n",
       "  </thead>\n",
       "  <tbody>\n",
       "    <tr>\n",
       "      <th>Userprofile_url</th>\n",
       "      <td>17214</td>\n",
       "      <td>1930</td>\n",
       "      <td>https://www.amazon.com/gp/profile/amzn1.accoun...</td>\n",
       "      <td>33</td>\n",
       "    </tr>\n",
       "    <tr>\n",
       "      <th>Username</th>\n",
       "      <td>17214</td>\n",
       "      <td>1700</td>\n",
       "      <td>Amazon Customer</td>\n",
       "      <td>1165</td>\n",
       "    </tr>\n",
       "    <tr>\n",
       "      <th>Reviewdate</th>\n",
       "      <td>17214</td>\n",
       "      <td>2292</td>\n",
       "      <td>17/02/2023</td>\n",
       "      <td>55</td>\n",
       "    </tr>\n",
       "    <tr>\n",
       "      <th>Productname</th>\n",
       "      <td>17214</td>\n",
       "      <td>13906</td>\n",
       "      <td>Levi's Men's 559 Relaxed Straight Jeans (Also ...</td>\n",
       "      <td>1345</td>\n",
       "    </tr>\n",
       "    <tr>\n",
       "      <th>review_title</th>\n",
       "      <td>16889</td>\n",
       "      <td>12914</td>\n",
       "      <td>Five Stars</td>\n",
       "      <td>270</td>\n",
       "    </tr>\n",
       "    <tr>\n",
       "      <th>review_text</th>\n",
       "      <td>17152</td>\n",
       "      <td>16268</td>\n",
       "      <td>Perfect</td>\n",
       "      <td>42</td>\n",
       "    </tr>\n",
       "    <tr>\n",
       "      <th>categoryfirst_breadcrumb</th>\n",
       "      <td>17210</td>\n",
       "      <td>64</td>\n",
       "      <td>Clothing, Shoes &amp; Jewelry</td>\n",
       "      <td>4935</td>\n",
       "    </tr>\n",
       "    <tr>\n",
       "      <th>allbreadcrumbs</th>\n",
       "      <td>17198</td>\n",
       "      <td>4786</td>\n",
       "      <td>Men, Clothing, Jeans</td>\n",
       "      <td>1511</td>\n",
       "    </tr>\n",
       "    <tr>\n",
       "      <th>price</th>\n",
       "      <td>17214</td>\n",
       "      <td>3062</td>\n",
       "      <td>price_unavailable</td>\n",
       "      <td>6015</td>\n",
       "    </tr>\n",
       "    <tr>\n",
       "      <th>urlproduct</th>\n",
       "      <td>17214</td>\n",
       "      <td>15595</td>\n",
       "      <td>https://www.amazon.com/Levis-Mens-Relaxed-Stra...</td>\n",
       "      <td>558</td>\n",
       "    </tr>\n",
       "    <tr>\n",
       "      <th>verified_review</th>\n",
       "      <td>17214</td>\n",
       "      <td>1</td>\n",
       "      <td>Y</td>\n",
       "      <td>17214</td>\n",
       "    </tr>\n",
       "    <tr>\n",
       "      <th>Feedback</th>\n",
       "      <td>17214</td>\n",
       "      <td>2</td>\n",
       "      <td>no</td>\n",
       "      <td>17152</td>\n",
       "    </tr>\n",
       "  </tbody>\n",
       "</table>\n",
       "</div>"
      ],
      "text/plain": [
       "                          count unique  \\\n",
       "Userprofile_url           17214   1930   \n",
       "Username                  17214   1700   \n",
       "Reviewdate                17214   2292   \n",
       "Productname               17214  13906   \n",
       "review_title              16889  12914   \n",
       "review_text               17152  16268   \n",
       "categoryfirst_breadcrumb  17210     64   \n",
       "allbreadcrumbs            17198   4786   \n",
       "price                     17214   3062   \n",
       "urlproduct                17214  15595   \n",
       "verified_review           17214      1   \n",
       "Feedback                  17214      2   \n",
       "\n",
       "                                                                        top  \\\n",
       "Userprofile_url           https://www.amazon.com/gp/profile/amzn1.accoun...   \n",
       "Username                                                    Amazon Customer   \n",
       "Reviewdate                                                       17/02/2023   \n",
       "Productname               Levi's Men's 559 Relaxed Straight Jeans (Also ...   \n",
       "review_title                                                     Five Stars   \n",
       "review_text                                                         Perfect   \n",
       "categoryfirst_breadcrumb                          Clothing, Shoes & Jewelry   \n",
       "allbreadcrumbs                                         Men, Clothing, Jeans   \n",
       "price                                                     price_unavailable   \n",
       "urlproduct                https://www.amazon.com/Levis-Mens-Relaxed-Stra...   \n",
       "verified_review                                                           Y   \n",
       "Feedback                                                                 no   \n",
       "\n",
       "                           freq  \n",
       "Userprofile_url              33  \n",
       "Username                   1165  \n",
       "Reviewdate                   55  \n",
       "Productname                1345  \n",
       "review_title                270  \n",
       "review_text                  42  \n",
       "categoryfirst_breadcrumb   4935  \n",
       "allbreadcrumbs             1511  \n",
       "price                      6015  \n",
       "urlproduct                  558  \n",
       "verified_review           17214  \n",
       "Feedback                  17152  "
      ]
     },
     "execution_count": 26,
     "metadata": {},
     "output_type": "execute_result"
    }
   ],
   "source": [
    "pagenotfound1.describe(include=\"all\").T"
   ]
  },
  {
   "cell_type": "code",
   "execution_count": 27,
   "id": "de733b8e-752a-4c47-94a1-fb138fbff5a7",
   "metadata": {
    "tags": []
   },
   "outputs": [
    {
     "name": "stdout",
     "output_type": "stream",
     "text": [
      "62\n"
     ]
    }
   ],
   "source": [
    "print(len(pagenotfound1[pagenotfound1[\"Feedback\"]==\"yes\"]))"
   ]
  },
  {
   "cell_type": "code",
   "execution_count": 28,
   "id": "a228cecc-225b-4fc3-8121-2ff4e6d3431f",
   "metadata": {
    "tags": []
   },
   "outputs": [],
   "source": [
    "data_verified_reviews = pagenotfound1[pagenotfound1[\"Feedback\"]==\"no\"]"
   ]
  },
  {
   "cell_type": "code",
   "execution_count": 29,
   "id": "64f00887-f4ba-45c8-8e63-d05fc8cd7c7c",
   "metadata": {
    "tags": []
   },
   "outputs": [
    {
     "data": {
      "text/html": [
       "<div>\n",
       "<style scoped>\n",
       "    .dataframe tbody tr th:only-of-type {\n",
       "        vertical-align: middle;\n",
       "    }\n",
       "\n",
       "    .dataframe tbody tr th {\n",
       "        vertical-align: top;\n",
       "    }\n",
       "\n",
       "    .dataframe thead th {\n",
       "        text-align: right;\n",
       "    }\n",
       "</style>\n",
       "<table border=\"1\" class=\"dataframe\">\n",
       "  <thead>\n",
       "    <tr style=\"text-align: right;\">\n",
       "      <th></th>\n",
       "      <th>count</th>\n",
       "      <th>unique</th>\n",
       "      <th>top</th>\n",
       "      <th>freq</th>\n",
       "    </tr>\n",
       "  </thead>\n",
       "  <tbody>\n",
       "    <tr>\n",
       "      <th>Userprofile_url</th>\n",
       "      <td>17152</td>\n",
       "      <td>1930</td>\n",
       "      <td>https://www.amazon.com/gp/profile/amzn1.accoun...</td>\n",
       "      <td>33</td>\n",
       "    </tr>\n",
       "    <tr>\n",
       "      <th>Username</th>\n",
       "      <td>17152</td>\n",
       "      <td>1700</td>\n",
       "      <td>Amazon Customer</td>\n",
       "      <td>1159</td>\n",
       "    </tr>\n",
       "    <tr>\n",
       "      <th>Reviewdate</th>\n",
       "      <td>17152</td>\n",
       "      <td>2285</td>\n",
       "      <td>17/02/2023</td>\n",
       "      <td>55</td>\n",
       "    </tr>\n",
       "    <tr>\n",
       "      <th>Productname</th>\n",
       "      <td>17152</td>\n",
       "      <td>13906</td>\n",
       "      <td>Levi's Men's 559 Relaxed Straight Jeans (Also ...</td>\n",
       "      <td>1345</td>\n",
       "    </tr>\n",
       "    <tr>\n",
       "      <th>review_title</th>\n",
       "      <td>16829</td>\n",
       "      <td>12874</td>\n",
       "      <td>Five Stars</td>\n",
       "      <td>267</td>\n",
       "    </tr>\n",
       "    <tr>\n",
       "      <th>review_text</th>\n",
       "      <td>17090</td>\n",
       "      <td>16209</td>\n",
       "      <td>Perfect</td>\n",
       "      <td>42</td>\n",
       "    </tr>\n",
       "    <tr>\n",
       "      <th>categoryfirst_breadcrumb</th>\n",
       "      <td>17148</td>\n",
       "      <td>64</td>\n",
       "      <td>Clothing, Shoes &amp; Jewelry</td>\n",
       "      <td>4935</td>\n",
       "    </tr>\n",
       "    <tr>\n",
       "      <th>allbreadcrumbs</th>\n",
       "      <td>17136</td>\n",
       "      <td>4786</td>\n",
       "      <td>Men, Clothing, Jeans</td>\n",
       "      <td>1511</td>\n",
       "    </tr>\n",
       "    <tr>\n",
       "      <th>price</th>\n",
       "      <td>17152</td>\n",
       "      <td>3062</td>\n",
       "      <td>price_unavailable</td>\n",
       "      <td>5953</td>\n",
       "    </tr>\n",
       "    <tr>\n",
       "      <th>urlproduct</th>\n",
       "      <td>17152</td>\n",
       "      <td>15533</td>\n",
       "      <td>https://www.amazon.com/Levis-Mens-Relaxed-Stra...</td>\n",
       "      <td>558</td>\n",
       "    </tr>\n",
       "    <tr>\n",
       "      <th>verified_review</th>\n",
       "      <td>17152</td>\n",
       "      <td>1</td>\n",
       "      <td>Y</td>\n",
       "      <td>17152</td>\n",
       "    </tr>\n",
       "    <tr>\n",
       "      <th>Feedback</th>\n",
       "      <td>17152</td>\n",
       "      <td>1</td>\n",
       "      <td>no</td>\n",
       "      <td>17152</td>\n",
       "    </tr>\n",
       "  </tbody>\n",
       "</table>\n",
       "</div>"
      ],
      "text/plain": [
       "                          count unique  \\\n",
       "Userprofile_url           17152   1930   \n",
       "Username                  17152   1700   \n",
       "Reviewdate                17152   2285   \n",
       "Productname               17152  13906   \n",
       "review_title              16829  12874   \n",
       "review_text               17090  16209   \n",
       "categoryfirst_breadcrumb  17148     64   \n",
       "allbreadcrumbs            17136   4786   \n",
       "price                     17152   3062   \n",
       "urlproduct                17152  15533   \n",
       "verified_review           17152      1   \n",
       "Feedback                  17152      1   \n",
       "\n",
       "                                                                        top  \\\n",
       "Userprofile_url           https://www.amazon.com/gp/profile/amzn1.accoun...   \n",
       "Username                                                    Amazon Customer   \n",
       "Reviewdate                                                       17/02/2023   \n",
       "Productname               Levi's Men's 559 Relaxed Straight Jeans (Also ...   \n",
       "review_title                                                     Five Stars   \n",
       "review_text                                                         Perfect   \n",
       "categoryfirst_breadcrumb                          Clothing, Shoes & Jewelry   \n",
       "allbreadcrumbs                                         Men, Clothing, Jeans   \n",
       "price                                                     price_unavailable   \n",
       "urlproduct                https://www.amazon.com/Levis-Mens-Relaxed-Stra...   \n",
       "verified_review                                                           Y   \n",
       "Feedback                                                                 no   \n",
       "\n",
       "                           freq  \n",
       "Userprofile_url              33  \n",
       "Username                   1159  \n",
       "Reviewdate                   55  \n",
       "Productname                1345  \n",
       "review_title                267  \n",
       "review_text                  42  \n",
       "categoryfirst_breadcrumb   4935  \n",
       "allbreadcrumbs             1511  \n",
       "price                      5953  \n",
       "urlproduct                  558  \n",
       "verified_review           17152  \n",
       "Feedback                  17152  "
      ]
     },
     "execution_count": 29,
     "metadata": {},
     "output_type": "execute_result"
    }
   ],
   "source": [
    "data_verified_reviews.describe(include='all').T"
   ]
  },
  {
   "cell_type": "code",
   "execution_count": 30,
   "id": "6d3462ca-0d79-48f9-b18f-c52c40c08cb1",
   "metadata": {
    "tags": []
   },
   "outputs": [
    {
     "data": {
      "text/plain": [
       "411"
      ]
     },
     "execution_count": 30,
     "metadata": {},
     "output_type": "execute_result"
    }
   ],
   "source": [
    "# Print the Number of reviews who lacked either a review title or review text\n",
    "len(data_verified_reviews[(data_verified_reviews['review_text']=='unavailable') | (data_verified_reviews['review_title']=='unavailable')]) + len(data_verified_reviews[(data_verified_reviews['review_text'].isna()) | (data_verified_reviews['review_title'].isna())])"
   ]
  },
  {
   "cell_type": "code",
   "execution_count": 31,
   "id": "63579a71-9477-4e8a-b598-b8f6024bccb1",
   "metadata": {
    "tags": []
   },
   "outputs": [
    {
     "name": "stdout",
     "output_type": "stream",
     "text": [
      "<class 'pandas.core.frame.DataFrame'>\n",
      "Index: 17152 entries, 0 to 17213\n",
      "Data columns (total 12 columns):\n",
      " #   Column                    Non-Null Count  Dtype \n",
      "---  ------                    --------------  ----- \n",
      " 0   Userprofile_url           17152 non-null  object\n",
      " 1   Username                  17152 non-null  object\n",
      " 2   Reviewdate                17152 non-null  object\n",
      " 3   Productname               17152 non-null  object\n",
      " 4   review_title              16829 non-null  object\n",
      " 5   review_text               17090 non-null  object\n",
      " 6   categoryfirst_breadcrumb  17148 non-null  object\n",
      " 7   allbreadcrumbs            17136 non-null  object\n",
      " 8   price                     17152 non-null  object\n",
      " 9   urlproduct                17152 non-null  object\n",
      " 10  verified_review           17152 non-null  object\n",
      " 11  Feedback                  17152 non-null  object\n",
      "dtypes: object(12)\n",
      "memory usage: 1.7+ MB\n"
     ]
    }
   ],
   "source": [
    "data_verified_reviews.info()"
   ]
  },
  {
   "cell_type": "code",
   "execution_count": 32,
   "id": "8b2e823a-23f8-473b-a786-fc142c7c77b7",
   "metadata": {
    "tags": []
   },
   "outputs": [],
   "source": [
    "data_verified_reviews = data_verified_reviews.dropna(subset=['review_title', 'review_text'])"
   ]
  },
  {
   "cell_type": "code",
   "execution_count": 33,
   "id": "8f9368b5-c14c-4217-bbf2-68145fd0e964",
   "metadata": {
    "tags": []
   },
   "outputs": [],
   "source": [
    "data_verified_reviews = data_verified_reviews[(data_verified_reviews['review_text']!='unavailable') & (data_verified_reviews['review_title']!='unavailable')]"
   ]
  },
  {
   "cell_type": "code",
   "execution_count": 34,
   "id": "3fcd1a78-520b-4e40-a2af-a5ed0a58978b",
   "metadata": {
    "tags": []
   },
   "outputs": [
    {
     "name": "stdout",
     "output_type": "stream",
     "text": [
      "<class 'pandas.core.frame.DataFrame'>\n",
      "Index: 16741 entries, 0 to 17213\n",
      "Data columns (total 12 columns):\n",
      " #   Column                    Non-Null Count  Dtype \n",
      "---  ------                    --------------  ----- \n",
      " 0   Userprofile_url           16741 non-null  object\n",
      " 1   Username                  16741 non-null  object\n",
      " 2   Reviewdate                16741 non-null  object\n",
      " 3   Productname               16741 non-null  object\n",
      " 4   review_title              16741 non-null  object\n",
      " 5   review_text               16741 non-null  object\n",
      " 6   categoryfirst_breadcrumb  16737 non-null  object\n",
      " 7   allbreadcrumbs            16725 non-null  object\n",
      " 8   price                     16741 non-null  object\n",
      " 9   urlproduct                16741 non-null  object\n",
      " 10  verified_review           16741 non-null  object\n",
      " 11  Feedback                  16741 non-null  object\n",
      "dtypes: object(12)\n",
      "memory usage: 1.7+ MB\n"
     ]
    }
   ],
   "source": [
    "data_verified_reviews.info()"
   ]
  },
  {
   "cell_type": "code",
   "execution_count": 35,
   "id": "3a2d494a-99ab-4b91-93d1-a83aa1c47d81",
   "metadata": {
    "tags": []
   },
   "outputs": [
    {
     "name": "stdout",
     "output_type": "stream",
     "text": [
      "16741\n"
     ]
    }
   ],
   "source": [
    "# Print the new number og total reviews\n",
    "print(len(data_verified_reviews))"
   ]
  },
  {
   "cell_type": "code",
   "execution_count": 36,
   "id": "9d64a4ea-5ed8-40de-b620-569f9be24ea2",
   "metadata": {
    "tags": []
   },
   "outputs": [
    {
     "data": {
      "text/html": [
       "<div>\n",
       "<style scoped>\n",
       "    .dataframe tbody tr th:only-of-type {\n",
       "        vertical-align: middle;\n",
       "    }\n",
       "\n",
       "    .dataframe tbody tr th {\n",
       "        vertical-align: top;\n",
       "    }\n",
       "\n",
       "    .dataframe thead th {\n",
       "        text-align: right;\n",
       "    }\n",
       "</style>\n",
       "<table border=\"1\" class=\"dataframe\">\n",
       "  <thead>\n",
       "    <tr style=\"text-align: right;\">\n",
       "      <th></th>\n",
       "      <th>count</th>\n",
       "      <th>unique</th>\n",
       "      <th>top</th>\n",
       "      <th>freq</th>\n",
       "    </tr>\n",
       "  </thead>\n",
       "  <tbody>\n",
       "    <tr>\n",
       "      <th>Userprofile_url</th>\n",
       "      <td>16741</td>\n",
       "      <td>1906</td>\n",
       "      <td>https://www.amazon.com/gp/profile/amzn1.accoun...</td>\n",
       "      <td>33</td>\n",
       "    </tr>\n",
       "    <tr>\n",
       "      <th>Username</th>\n",
       "      <td>16741</td>\n",
       "      <td>1677</td>\n",
       "      <td>Amazon Customer</td>\n",
       "      <td>1118</td>\n",
       "    </tr>\n",
       "    <tr>\n",
       "      <th>Reviewdate</th>\n",
       "      <td>16741</td>\n",
       "      <td>2283</td>\n",
       "      <td>17/02/2023</td>\n",
       "      <td>55</td>\n",
       "    </tr>\n",
       "    <tr>\n",
       "      <th>Productname</th>\n",
       "      <td>16741</td>\n",
       "      <td>13578</td>\n",
       "      <td>Levi's Men's 559 Relaxed Straight Jeans (Also ...</td>\n",
       "      <td>1298</td>\n",
       "    </tr>\n",
       "    <tr>\n",
       "      <th>review_title</th>\n",
       "      <td>16741</td>\n",
       "      <td>12800</td>\n",
       "      <td>Five Stars</td>\n",
       "      <td>267</td>\n",
       "    </tr>\n",
       "    <tr>\n",
       "      <th>review_text</th>\n",
       "      <td>16741</td>\n",
       "      <td>15915</td>\n",
       "      <td>Perfect</td>\n",
       "      <td>42</td>\n",
       "    </tr>\n",
       "    <tr>\n",
       "      <th>categoryfirst_breadcrumb</th>\n",
       "      <td>16737</td>\n",
       "      <td>64</td>\n",
       "      <td>Clothing, Shoes &amp; Jewelry</td>\n",
       "      <td>4775</td>\n",
       "    </tr>\n",
       "    <tr>\n",
       "      <th>allbreadcrumbs</th>\n",
       "      <td>16725</td>\n",
       "      <td>4722</td>\n",
       "      <td>Men, Clothing, Jeans</td>\n",
       "      <td>1456</td>\n",
       "    </tr>\n",
       "    <tr>\n",
       "      <th>price</th>\n",
       "      <td>16741</td>\n",
       "      <td>3011</td>\n",
       "      <td>price_unavailable</td>\n",
       "      <td>5820</td>\n",
       "    </tr>\n",
       "    <tr>\n",
       "      <th>urlproduct</th>\n",
       "      <td>16741</td>\n",
       "      <td>15170</td>\n",
       "      <td>https://www.amazon.com/Levis-Mens-Relaxed-Stra...</td>\n",
       "      <td>557</td>\n",
       "    </tr>\n",
       "    <tr>\n",
       "      <th>verified_review</th>\n",
       "      <td>16741</td>\n",
       "      <td>1</td>\n",
       "      <td>Y</td>\n",
       "      <td>16741</td>\n",
       "    </tr>\n",
       "    <tr>\n",
       "      <th>Feedback</th>\n",
       "      <td>16741</td>\n",
       "      <td>1</td>\n",
       "      <td>no</td>\n",
       "      <td>16741</td>\n",
       "    </tr>\n",
       "  </tbody>\n",
       "</table>\n",
       "</div>"
      ],
      "text/plain": [
       "                          count unique  \\\n",
       "Userprofile_url           16741   1906   \n",
       "Username                  16741   1677   \n",
       "Reviewdate                16741   2283   \n",
       "Productname               16741  13578   \n",
       "review_title              16741  12800   \n",
       "review_text               16741  15915   \n",
       "categoryfirst_breadcrumb  16737     64   \n",
       "allbreadcrumbs            16725   4722   \n",
       "price                     16741   3011   \n",
       "urlproduct                16741  15170   \n",
       "verified_review           16741      1   \n",
       "Feedback                  16741      1   \n",
       "\n",
       "                                                                        top  \\\n",
       "Userprofile_url           https://www.amazon.com/gp/profile/amzn1.accoun...   \n",
       "Username                                                    Amazon Customer   \n",
       "Reviewdate                                                       17/02/2023   \n",
       "Productname               Levi's Men's 559 Relaxed Straight Jeans (Also ...   \n",
       "review_title                                                     Five Stars   \n",
       "review_text                                                         Perfect   \n",
       "categoryfirst_breadcrumb                          Clothing, Shoes & Jewelry   \n",
       "allbreadcrumbs                                         Men, Clothing, Jeans   \n",
       "price                                                     price_unavailable   \n",
       "urlproduct                https://www.amazon.com/Levis-Mens-Relaxed-Stra...   \n",
       "verified_review                                                           Y   \n",
       "Feedback                                                                 no   \n",
       "\n",
       "                           freq  \n",
       "Userprofile_url              33  \n",
       "Username                   1118  \n",
       "Reviewdate                   55  \n",
       "Productname                1298  \n",
       "review_title                267  \n",
       "review_text                  42  \n",
       "categoryfirst_breadcrumb   4775  \n",
       "allbreadcrumbs             1456  \n",
       "price                      5820  \n",
       "urlproduct                  557  \n",
       "verified_review           16741  \n",
       "Feedback                  16741  "
      ]
     },
     "execution_count": 36,
     "metadata": {},
     "output_type": "execute_result"
    }
   ],
   "source": [
    "data_verified_reviews.describe(include=\"all\").T"
   ]
  },
  {
   "cell_type": "code",
   "execution_count": 37,
   "id": "6b90ad8a-6c58-4ad1-be2d-3c8555751d6b",
   "metadata": {
    "tags": []
   },
   "outputs": [
    {
     "data": {
      "text/plain": [
       "1041"
      ]
     },
     "execution_count": 37,
     "metadata": {},
     "output_type": "execute_result"
    }
   ],
   "source": [
    "# Print the number of reviews that have not been classified into a particular breadcrumb\n",
    "len(data_verified_reviews[(data_verified_reviews['categoryfirst_breadcrumb']=='unavailable') | (data_verified_reviews['allbreadcrumbs']=='unavailable')]) + len(data_verified_reviews[(data_verified_reviews['categoryfirst_breadcrumb'].isna()) | (data_verified_reviews['allbreadcrumbs'].isna())])"
   ]
  },
  {
   "cell_type": "code",
   "execution_count": 38,
   "id": "53a79e03-ef7c-47fd-935f-57fd514079c4",
   "metadata": {
    "tags": []
   },
   "outputs": [],
   "source": [
    "data_verified_reviews.to_excel(\"Output_after_pre_analysis.xlsx\", index=False)"
   ]
  },
  {
   "cell_type": "code",
   "execution_count": null,
   "id": "947f38f6-af80-45d1-8a80-9aab055ebc92",
   "metadata": {},
   "outputs": [],
   "source": []
  }
 ],
 "metadata": {
  "kernelspec": {
   "display_name": "Python 3 (ipykernel)",
   "language": "python",
   "name": "python3"
  },
  "language_info": {
   "codemirror_mode": {
    "name": "ipython",
    "version": 3
   },
   "file_extension": ".py",
   "mimetype": "text/x-python",
   "name": "python",
   "nbconvert_exporter": "python",
   "pygments_lexer": "ipython3",
   "version": "3.10.12"
  }
 },
 "nbformat": 4,
 "nbformat_minor": 5
}
